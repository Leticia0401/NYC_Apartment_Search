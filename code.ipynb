{
 "cells": [
  {
   "cell_type": "markdown",
   "id": "d62c65bb",
   "metadata": {},
   "source": [
    "# Setup"
   ]
  },
  {
   "cell_type": "code",
   "execution_count": 1,
   "id": "cf066bd8",
   "metadata": {},
   "outputs": [],
   "source": [
    "# All import statements needed for the project\n",
    "import json\n",
    "import requests\n",
    "import pandas as pd\n",
    "import urllib.parse\n",
    "import requests\n",
    "import pathlib\n",
    "from pathlib import Path\n",
    "import psycopg2\n",
    "import geoalchemy2 as gdb\n",
    "import geopandas as gpd\n",
    "import matplotlib.pyplot as plt\n",
    "import shapely\n",
    "import sqlalchemy as db\n",
    "\n",
    "from sqlalchemy.orm import declarative_base"
   ]
  },
  {
   "cell_type": "code",
   "execution_count": 2,
   "id": "7de69d5b",
   "metadata": {},
   "outputs": [],
   "source": [
    "# Any constants you might need; some have been added for you\n",
    "\n",
    "# Where data files will be read from/written to - this should already exist\n",
    "DATA_DIR = pathlib.Path(\"data\")\n",
    "ZIPCODE_DATA_FILE = DATA_DIR / \"zipcodes\" / \"ZIP_CODE_040114.shp\"\n",
    "ZILLOW_DATA_FILE = DATA_DIR / \"zillow_rent_data.csv\"\n",
    "\n",
    "NYC_DATA_APP_TOKEN = \"qusZQnQU0ua9VbjGpXFDVhsbK\"\n",
    "BASE_NYC_DATA_URL = \"https://data.cityofnewyork.us/\"\n",
    "NYC_DATA_311 = \"erm2-nwe9.geojson\"\n",
    "NYC_DATA_TREES = \"5rq2-4hqu.geojson\"\n",
    "\n",
    "DB_NAME = \"FINAL_PROJECT_DATA\"\n",
    "DB_USER = \"sareayang\"\n",
    "DB_URL = f\"postgresql+psycopg2://{DB_USER}@localhost/{DB_NAME}\"\n",
    "DB_SCHEMA_FILE = \"schema.sql\"\n",
    "# directory where DB queries for Part 3 will be saved\n",
    "QUERY_DIR = pathlib.Path(\"queries\")"
   ]
  },
  {
   "cell_type": "code",
   "execution_count": 3,
   "id": "415d8cce",
   "metadata": {},
   "outputs": [],
   "source": [
    "# Make sure the QUERY_DIRECTORY exists\n",
    "if not QUERY_DIR.exists():\n",
    "    QUERY_DIR.mkdir()"
   ]
  },
  {
   "cell_type": "markdown",
   "id": "c26a32a9",
   "metadata": {},
   "source": [
    "# Part 1: Data Preprocessing"
   ]
  },
  {
   "cell_type": "code",
   "execution_count": 4,
   "id": "7fdfc6a6",
   "metadata": {},
   "outputs": [],
   "source": [
    "def download_nyc_geojson_data(url, file_name, force=False):\n",
    "    filename = Path(file_name + '.geojson')\n",
    "    \n",
    "    if force or not filename.exists():\n",
    "        print(f\"Downloading {url} to {file_name}...\")\n",
    "    \n",
    "        response = requests.get(url)\n",
    "        text = response.text\n",
    "\n",
    "        with open(file_name + '.geojson', 'w') as file:\n",
    "            file.write(text)\n",
    "        print(f\"Done downloading {url}.\")\n",
    "        \n",
    "    else:\n",
    "        print(f\"Reading from {file_name}...\")\n",
    "    \n",
    "    gdf = gpd.read_file(file_name + '.geojson', driver = 'GeoJSON')\n",
    "    return gdf"
   ]
  },
  {
   "cell_type": "code",
   "execution_count": 5,
   "id": "e1383098",
   "metadata": {},
   "outputs": [],
   "source": [
    "def download_and_clean_311_data():\n",
    "    url = \"https://data.cityofnewyork.us/resource/erm2-nwe9.geojson?$$app_token=RbFfvU4T8a7C7rDHaA9eqAkvZ\"\n",
    "    file_name = 'complaints_head(1000)'\n",
    "    complaints = download_nyc_geojson_data(url, file_name, force=False)\n",
    "    \n",
    "    # choose columns we neeed\n",
    "    new_complaints = complaints[['created_date', 'incident_zip', 'complaint_type', 'geometry']]\n",
    "    \n",
    "    # normalize SRID to EPSG:4326\n",
    "    new_complaints = new_complaints.to_crs(epsg=4326)\n",
    "    \n",
    "    # 去除NaN\n",
    "    columns_with_nan = new_complaints.columns[new_complaints.isnull().any()].tolist()\n",
    "    \n",
    "    for column_name in columns_with_nan:\n",
    "        print(\"Processing column:\", column_name)\n",
    "        new_complaints = new_complaints.dropna(subset=[column_name])\n",
    "        print(\"Removed rows with NaN value in\", column_name)\n",
    "\n",
    "    return new_complaints"
   ]
  },
  {
   "cell_type": "code",
   "execution_count": 6,
   "id": "df0242d0",
   "metadata": {},
   "outputs": [],
   "source": [
    "def download_and_clean_tree_data():\n",
    "    url = \"https://data.cityofnewyork.us/resource/5rq2-4hqu.geojson?$$app_token=RbFfvU4T8a7C7rDHaA9eqAkvZ\"\n",
    "    file_name = 'trees_head(1000)'\n",
    "    trees = download_nyc_geojson_data(url, file_name, force=False)\n",
    "    \n",
    "    # normalize SRID to EPSG:4326\n",
    "    trees = trees.to_crs(epsg=4326)\n",
    "    \n",
    "    # 去除NaN\n",
    "    columns_with_nan = trees.columns[trees.isnull().any()].tolist()\n",
    "    \n",
    "    for column_name in columns_with_nan:\n",
    "        print(\"Processing column:\", column_name)\n",
    "        trees = trees.dropna(subset=[column_name])\n",
    "        print(\"Removed rows with NaN value in\", column_name)\n",
    "        \n",
    "    # choose columns we neeed\n",
    "    new_trees = trees[['tree_id', 'zipcode', 'spc_common', 'health', 'status', 'latitude', 'longitude', 'geometry']].copy()\n",
    "\n",
    "    return new_trees"
   ]
  },
  {
   "cell_type": "code",
   "execution_count": 7,
   "id": "d11aac1a",
   "metadata": {},
   "outputs": [],
   "source": [
    "def load_and_clean_zipcodes(zipcode_datafile):\n",
    "    zipcode_data = gpd.read_file(zipcode_datafile)\n",
    "    \n",
    "    zipcodes = zipcode_data[['ZIPCODE', 'geometry']]\n",
    "    zipcodes = zipcodes.rename(columns={'ZIPCODE': 'zipcode'})\n",
    "    \n",
    "    # normalize SRID to EPSG:4326\n",
    "    zipcodes = zipcodes.to_crs(epsg=4326)\n",
    "    \n",
    "    # Convert 'Polygon' column to a format supported by SQL\n",
    "    # Replace 'polygon_column' with your actual 'Polygon' column name\n",
    "    ## zipcodes['geometry'] =zipcodes['geometry'].apply(lambda x: x.wkt if x else None)\n",
    "\n",
    "    # Define data types explicitly (required for 'Polygon' column)\n",
    "    ## data_types = {'geometry': String}  # Adjust the data type as per your SQL schema\n",
    "    return zipcodes"
   ]
  },
  {
   "cell_type": "code",
   "execution_count": 8,
   "id": "66c1bf2f",
   "metadata": {},
   "outputs": [],
   "source": [
    "def load_and_clean_zillow_data(rent_datafile):\n",
    "    zillow_rent_data = pd.read_csv(rent_datafile)\n",
    "    \n",
    "    columns_to_drop = ['RegionID', 'SizeRank', 'RegionType', 'State', 'StateName', 'City', 'Metro', 'CountyName']\n",
    "    df_zillow_data = zillow_rent_data.drop(columns=columns_to_drop)\n",
    "    \n",
    "    # rename columns\n",
    "    df_zillow_data = df_zillow_data.rename(columns={'RegionName': 'rent_zip'})\n",
    "    \n",
    "    # normalize rent data\n",
    "    rents = pd.melt(df_zillow_data, id_vars=['rent_zip'], var_name='rent_date', value_name='rent_amount')\n",
    "    \n",
    "    # set datetime type\n",
    "    rents['rent_date'] = pd.to_datetime(rents['rent_date'])\n",
    "    rents['rent_zip']\n",
    "    \n",
    "    return rents"
   ]
  },
  {
   "cell_type": "code",
   "execution_count": 9,
   "id": "ec92ab33",
   "metadata": {},
   "outputs": [],
   "source": [
    "# ZIPCODE_DATA_FILE = DATA_DIR / \"zipcodes\" / \"ZIP_CODE_040114.shp\"\n",
    "ZIPCODE_DATA_FILE = 'data/nyc_zipcodes.shp'\n",
    "RENT_DATA_FILE = 'data/zillow_rent_data.csv'"
   ]
  },
  {
   "cell_type": "code",
   "execution_count": 10,
   "id": "8d44a4be",
   "metadata": {},
   "outputs": [],
   "source": [
    "def load_all_data():\n",
    "    geodf_zipcode_data = load_and_clean_zipcodes(ZIPCODE_DATA_FILE)\n",
    "    geodf_311_data = download_and_clean_311_data()\n",
    "    geodf_tree_data = download_and_clean_tree_data()\n",
    "    df_zillow_data = load_and_clean_zillow_data(RENT_DATA_FILE)\n",
    "    return (\n",
    "        geodf_zipcode_data,\n",
    "        geodf_311_data,\n",
    "        geodf_tree_data,\n",
    "        df_zillow_data\n",
    "    )"
   ]
  },
  {
   "cell_type": "code",
   "execution_count": 11,
   "id": "4487d7b0",
   "metadata": {},
   "outputs": [
    {
     "name": "stdout",
     "output_type": "stream",
     "text": [
      "Reading from complaints_head(1000)...\n",
      "Processing column: incident_zip\n",
      "Removed rows with NaN value in incident_zip\n",
      "Processing column: geometry\n",
      "Removed rows with NaN value in geometry\n",
      "Reading from trees_head(1000)...\n",
      "Processing column: health\n",
      "Removed rows with NaN value in health\n",
      "Processing column: steward\n",
      "Removed rows with NaN value in steward\n",
      "Processing column: spc_common\n",
      "Removed rows with NaN value in spc_common\n",
      "Processing column: problems\n",
      "Removed rows with NaN value in problems\n",
      "Processing column: spc_latin\n",
      "Removed rows with NaN value in spc_latin\n",
      "Processing column: guards\n",
      "Removed rows with NaN value in guards\n",
      "Processing column: sidewalk\n",
      "Removed rows with NaN value in sidewalk\n"
     ]
    }
   ],
   "source": [
    "geodf_zipcode_data, geodf_311_data, geodf_tree_data, df_zillow_data = load_all_data()"
   ]
  },
  {
   "cell_type": "code",
   "execution_count": 12,
   "id": "7e6eb1eb",
   "metadata": {},
   "outputs": [
    {
     "name": "stdout",
     "output_type": "stream",
     "text": [
      "<class 'geopandas.geodataframe.GeoDataFrame'>\n",
      "RangeIndex: 263 entries, 0 to 262\n",
      "Data columns (total 2 columns):\n",
      " #   Column    Non-Null Count  Dtype   \n",
      "---  ------    --------------  -----   \n",
      " 0   zipcode   263 non-null    object  \n",
      " 1   geometry  263 non-null    geometry\n",
      "dtypes: geometry(1), object(1)\n",
      "memory usage: 4.2+ KB\n"
     ]
    }
   ],
   "source": [
    "# Show basic info about each dataframe\n",
    "geodf_zipcode_data.info()"
   ]
  },
  {
   "cell_type": "code",
   "execution_count": 13,
   "id": "0b528574",
   "metadata": {},
   "outputs": [
    {
     "data": {
      "text/html": [
       "<div>\n",
       "<style scoped>\n",
       "    .dataframe tbody tr th:only-of-type {\n",
       "        vertical-align: middle;\n",
       "    }\n",
       "\n",
       "    .dataframe tbody tr th {\n",
       "        vertical-align: top;\n",
       "    }\n",
       "\n",
       "    .dataframe thead th {\n",
       "        text-align: right;\n",
       "    }\n",
       "</style>\n",
       "<table border=\"1\" class=\"dataframe\">\n",
       "  <thead>\n",
       "    <tr style=\"text-align: right;\">\n",
       "      <th></th>\n",
       "      <th>zipcode</th>\n",
       "      <th>geometry</th>\n",
       "    </tr>\n",
       "  </thead>\n",
       "  <tbody>\n",
       "    <tr>\n",
       "      <th>0</th>\n",
       "      <td>11436</td>\n",
       "      <td>POLYGON ((-73.80585 40.68291, -73.80569 40.682...</td>\n",
       "    </tr>\n",
       "    <tr>\n",
       "      <th>1</th>\n",
       "      <td>11213</td>\n",
       "      <td>POLYGON ((-73.93740 40.67973, -73.93487 40.679...</td>\n",
       "    </tr>\n",
       "    <tr>\n",
       "      <th>2</th>\n",
       "      <td>11212</td>\n",
       "      <td>POLYGON ((-73.90294 40.67084, -73.90223 40.668...</td>\n",
       "    </tr>\n",
       "    <tr>\n",
       "      <th>3</th>\n",
       "      <td>11225</td>\n",
       "      <td>POLYGON ((-73.95797 40.67066, -73.95576 40.670...</td>\n",
       "    </tr>\n",
       "    <tr>\n",
       "      <th>4</th>\n",
       "      <td>11218</td>\n",
       "      <td>POLYGON ((-73.97208 40.65060, -73.97192 40.650...</td>\n",
       "    </tr>\n",
       "  </tbody>\n",
       "</table>\n",
       "</div>"
      ],
      "text/plain": [
       "  zipcode                                           geometry\n",
       "0   11436  POLYGON ((-73.80585 40.68291, -73.80569 40.682...\n",
       "1   11213  POLYGON ((-73.93740 40.67973, -73.93487 40.679...\n",
       "2   11212  POLYGON ((-73.90294 40.67084, -73.90223 40.668...\n",
       "3   11225  POLYGON ((-73.95797 40.67066, -73.95576 40.670...\n",
       "4   11218  POLYGON ((-73.97208 40.65060, -73.97192 40.650..."
      ]
     },
     "execution_count": 13,
     "metadata": {},
     "output_type": "execute_result"
    }
   ],
   "source": [
    "# Show first 5 entries about each dataframe\n",
    "geodf_zipcode_data.head()"
   ]
  },
  {
   "cell_type": "code",
   "execution_count": 14,
   "id": "588dfead",
   "metadata": {},
   "outputs": [
    {
     "name": "stdout",
     "output_type": "stream",
     "text": [
      "<class 'geopandas.geodataframe.GeoDataFrame'>\n",
      "Int64Index: 986 entries, 0 to 999\n",
      "Data columns (total 4 columns):\n",
      " #   Column          Non-Null Count  Dtype         \n",
      "---  ------          --------------  -----         \n",
      " 0   created_date    986 non-null    datetime64[ns]\n",
      " 1   incident_zip    986 non-null    object        \n",
      " 2   complaint_type  986 non-null    object        \n",
      " 3   geometry        986 non-null    geometry      \n",
      "dtypes: datetime64[ns](1), geometry(1), object(2)\n",
      "memory usage: 38.5+ KB\n"
     ]
    }
   ],
   "source": [
    "geodf_311_data.info()"
   ]
  },
  {
   "cell_type": "code",
   "execution_count": 15,
   "id": "66f49871",
   "metadata": {},
   "outputs": [
    {
     "data": {
      "text/html": [
       "<div>\n",
       "<style scoped>\n",
       "    .dataframe tbody tr th:only-of-type {\n",
       "        vertical-align: middle;\n",
       "    }\n",
       "\n",
       "    .dataframe tbody tr th {\n",
       "        vertical-align: top;\n",
       "    }\n",
       "\n",
       "    .dataframe thead th {\n",
       "        text-align: right;\n",
       "    }\n",
       "</style>\n",
       "<table border=\"1\" class=\"dataframe\">\n",
       "  <thead>\n",
       "    <tr style=\"text-align: right;\">\n",
       "      <th></th>\n",
       "      <th>created_date</th>\n",
       "      <th>incident_zip</th>\n",
       "      <th>complaint_type</th>\n",
       "      <th>geometry</th>\n",
       "    </tr>\n",
       "  </thead>\n",
       "  <tbody>\n",
       "    <tr>\n",
       "      <th>0</th>\n",
       "      <td>2023-12-06 12:00:00</td>\n",
       "      <td>11357</td>\n",
       "      <td>Derelict Vehicles</td>\n",
       "      <td>POINT (-73.81909 40.77822)</td>\n",
       "    </tr>\n",
       "    <tr>\n",
       "      <th>1</th>\n",
       "      <td>2023-12-06 12:00:00</td>\n",
       "      <td>11423</td>\n",
       "      <td>Derelict Vehicles</td>\n",
       "      <td>POINT (-73.77700 40.70893)</td>\n",
       "    </tr>\n",
       "    <tr>\n",
       "      <th>2</th>\n",
       "      <td>2023-12-06 01:21:27</td>\n",
       "      <td>10458</td>\n",
       "      <td>Noise - Residential</td>\n",
       "      <td>POINT (-73.89632 40.85988)</td>\n",
       "    </tr>\n",
       "    <tr>\n",
       "      <th>3</th>\n",
       "      <td>2023-12-06 01:20:45</td>\n",
       "      <td>11357</td>\n",
       "      <td>Illegal Parking</td>\n",
       "      <td>POINT (-73.81744 40.77804)</td>\n",
       "    </tr>\n",
       "    <tr>\n",
       "      <th>4</th>\n",
       "      <td>2023-12-06 01:20:17</td>\n",
       "      <td>11214</td>\n",
       "      <td>Illegal Parking</td>\n",
       "      <td>POINT (-73.98806 40.59708)</td>\n",
       "    </tr>\n",
       "  </tbody>\n",
       "</table>\n",
       "</div>"
      ],
      "text/plain": [
       "         created_date incident_zip       complaint_type  \\\n",
       "0 2023-12-06 12:00:00        11357    Derelict Vehicles   \n",
       "1 2023-12-06 12:00:00        11423    Derelict Vehicles   \n",
       "2 2023-12-06 01:21:27        10458  Noise - Residential   \n",
       "3 2023-12-06 01:20:45        11357      Illegal Parking   \n",
       "4 2023-12-06 01:20:17        11214      Illegal Parking   \n",
       "\n",
       "                     geometry  \n",
       "0  POINT (-73.81909 40.77822)  \n",
       "1  POINT (-73.77700 40.70893)  \n",
       "2  POINT (-73.89632 40.85988)  \n",
       "3  POINT (-73.81744 40.77804)  \n",
       "4  POINT (-73.98806 40.59708)  "
      ]
     },
     "execution_count": 15,
     "metadata": {},
     "output_type": "execute_result"
    }
   ],
   "source": [
    "geodf_311_data.head()"
   ]
  },
  {
   "cell_type": "code",
   "execution_count": 16,
   "id": "72549907",
   "metadata": {},
   "outputs": [
    {
     "name": "stdout",
     "output_type": "stream",
     "text": [
      "<class 'geopandas.geodataframe.GeoDataFrame'>\n",
      "Int64Index: 973 entries, 0 to 999\n",
      "Data columns (total 8 columns):\n",
      " #   Column      Non-Null Count  Dtype   \n",
      "---  ------      --------------  -----   \n",
      " 0   tree_id     973 non-null    object  \n",
      " 1   zipcode     973 non-null    object  \n",
      " 2   spc_common  973 non-null    object  \n",
      " 3   health      973 non-null    object  \n",
      " 4   status      973 non-null    object  \n",
      " 5   latitude    973 non-null    object  \n",
      " 6   longitude   973 non-null    object  \n",
      " 7   geometry    973 non-null    geometry\n",
      "dtypes: geometry(1), object(7)\n",
      "memory usage: 68.4+ KB\n"
     ]
    }
   ],
   "source": [
    "geodf_tree_data.info()"
   ]
  },
  {
   "cell_type": "code",
   "execution_count": 17,
   "id": "fb4a5a1b",
   "metadata": {},
   "outputs": [
    {
     "data": {
      "text/html": [
       "<div>\n",
       "<style scoped>\n",
       "    .dataframe tbody tr th:only-of-type {\n",
       "        vertical-align: middle;\n",
       "    }\n",
       "\n",
       "    .dataframe tbody tr th {\n",
       "        vertical-align: top;\n",
       "    }\n",
       "\n",
       "    .dataframe thead th {\n",
       "        text-align: right;\n",
       "    }\n",
       "</style>\n",
       "<table border=\"1\" class=\"dataframe\">\n",
       "  <thead>\n",
       "    <tr style=\"text-align: right;\">\n",
       "      <th></th>\n",
       "      <th>tree_id</th>\n",
       "      <th>zipcode</th>\n",
       "      <th>spc_common</th>\n",
       "      <th>health</th>\n",
       "      <th>status</th>\n",
       "      <th>latitude</th>\n",
       "      <th>longitude</th>\n",
       "      <th>geometry</th>\n",
       "    </tr>\n",
       "  </thead>\n",
       "  <tbody>\n",
       "    <tr>\n",
       "      <th>0</th>\n",
       "      <td>180683</td>\n",
       "      <td>11375</td>\n",
       "      <td>red maple</td>\n",
       "      <td>Fair</td>\n",
       "      <td>Alive</td>\n",
       "      <td>40.72309177</td>\n",
       "      <td>-73.84421522</td>\n",
       "      <td>POINT (-73.84422 40.72309)</td>\n",
       "    </tr>\n",
       "    <tr>\n",
       "      <th>1</th>\n",
       "      <td>200540</td>\n",
       "      <td>11357</td>\n",
       "      <td>pin oak</td>\n",
       "      <td>Fair</td>\n",
       "      <td>Alive</td>\n",
       "      <td>40.79411067</td>\n",
       "      <td>-73.81867946</td>\n",
       "      <td>POINT (-73.81868 40.79411)</td>\n",
       "    </tr>\n",
       "    <tr>\n",
       "      <th>2</th>\n",
       "      <td>204026</td>\n",
       "      <td>11211</td>\n",
       "      <td>honeylocust</td>\n",
       "      <td>Good</td>\n",
       "      <td>Alive</td>\n",
       "      <td>40.71758074</td>\n",
       "      <td>-73.9366077</td>\n",
       "      <td>POINT (-73.93661 40.71758)</td>\n",
       "    </tr>\n",
       "    <tr>\n",
       "      <th>3</th>\n",
       "      <td>204337</td>\n",
       "      <td>11211</td>\n",
       "      <td>honeylocust</td>\n",
       "      <td>Good</td>\n",
       "      <td>Alive</td>\n",
       "      <td>40.71353749</td>\n",
       "      <td>-73.93445616</td>\n",
       "      <td>POINT (-73.93446 40.71354)</td>\n",
       "    </tr>\n",
       "    <tr>\n",
       "      <th>4</th>\n",
       "      <td>189565</td>\n",
       "      <td>11215</td>\n",
       "      <td>American linden</td>\n",
       "      <td>Good</td>\n",
       "      <td>Alive</td>\n",
       "      <td>40.66677776</td>\n",
       "      <td>-73.97597938</td>\n",
       "      <td>POINT (-73.97598 40.66678)</td>\n",
       "    </tr>\n",
       "  </tbody>\n",
       "</table>\n",
       "</div>"
      ],
      "text/plain": [
       "  tree_id zipcode       spc_common health status     latitude     longitude  \\\n",
       "0  180683   11375        red maple   Fair  Alive  40.72309177  -73.84421522   \n",
       "1  200540   11357          pin oak   Fair  Alive  40.79411067  -73.81867946   \n",
       "2  204026   11211      honeylocust   Good  Alive  40.71758074   -73.9366077   \n",
       "3  204337   11211      honeylocust   Good  Alive  40.71353749  -73.93445616   \n",
       "4  189565   11215  American linden   Good  Alive  40.66677776  -73.97597938   \n",
       "\n",
       "                     geometry  \n",
       "0  POINT (-73.84422 40.72309)  \n",
       "1  POINT (-73.81868 40.79411)  \n",
       "2  POINT (-73.93661 40.71758)  \n",
       "3  POINT (-73.93446 40.71354)  \n",
       "4  POINT (-73.97598 40.66678)  "
      ]
     },
     "execution_count": 17,
     "metadata": {},
     "output_type": "execute_result"
    }
   ],
   "source": [
    "geodf_tree_data.head()"
   ]
  },
  {
   "cell_type": "code",
   "execution_count": 18,
   "id": "4f8f0fb5",
   "metadata": {},
   "outputs": [
    {
     "name": "stdout",
     "output_type": "stream",
     "text": [
      "<class 'pandas.core.frame.DataFrame'>\n",
      "RangeIndex: 705810 entries, 0 to 705809\n",
      "Data columns (total 3 columns):\n",
      " #   Column       Non-Null Count   Dtype         \n",
      "---  ------       --------------   -----         \n",
      " 0   rent_zip     705810 non-null  int64         \n",
      " 1   rent_date    705810 non-null  datetime64[ns]\n",
      " 2   rent_amount  250167 non-null  float64       \n",
      "dtypes: datetime64[ns](1), float64(1), int64(1)\n",
      "memory usage: 16.2 MB\n"
     ]
    }
   ],
   "source": [
    "df_zillow_data.info()"
   ]
  },
  {
   "cell_type": "code",
   "execution_count": 19,
   "id": "1947a044",
   "metadata": {},
   "outputs": [
    {
     "data": {
      "text/html": [
       "<div>\n",
       "<style scoped>\n",
       "    .dataframe tbody tr th:only-of-type {\n",
       "        vertical-align: middle;\n",
       "    }\n",
       "\n",
       "    .dataframe tbody tr th {\n",
       "        vertical-align: top;\n",
       "    }\n",
       "\n",
       "    .dataframe thead th {\n",
       "        text-align: right;\n",
       "    }\n",
       "</style>\n",
       "<table border=\"1\" class=\"dataframe\">\n",
       "  <thead>\n",
       "    <tr style=\"text-align: right;\">\n",
       "      <th></th>\n",
       "      <th>rent_zip</th>\n",
       "      <th>rent_date</th>\n",
       "      <th>rent_amount</th>\n",
       "    </tr>\n",
       "  </thead>\n",
       "  <tbody>\n",
       "    <tr>\n",
       "      <th>0</th>\n",
       "      <td>77494</td>\n",
       "      <td>2015-01-31</td>\n",
       "      <td>1606.206406</td>\n",
       "    </tr>\n",
       "    <tr>\n",
       "      <th>1</th>\n",
       "      <td>77449</td>\n",
       "      <td>2015-01-31</td>\n",
       "      <td>1257.814660</td>\n",
       "    </tr>\n",
       "    <tr>\n",
       "      <th>2</th>\n",
       "      <td>77084</td>\n",
       "      <td>2015-01-31</td>\n",
       "      <td>NaN</td>\n",
       "    </tr>\n",
       "    <tr>\n",
       "      <th>3</th>\n",
       "      <td>79936</td>\n",
       "      <td>2015-01-31</td>\n",
       "      <td>NaN</td>\n",
       "    </tr>\n",
       "    <tr>\n",
       "      <th>4</th>\n",
       "      <td>11385</td>\n",
       "      <td>2015-01-31</td>\n",
       "      <td>NaN</td>\n",
       "    </tr>\n",
       "  </tbody>\n",
       "</table>\n",
       "</div>"
      ],
      "text/plain": [
       "   rent_zip  rent_date  rent_amount\n",
       "0     77494 2015-01-31  1606.206406\n",
       "1     77449 2015-01-31  1257.814660\n",
       "2     77084 2015-01-31          NaN\n",
       "3     79936 2015-01-31          NaN\n",
       "4     11385 2015-01-31          NaN"
      ]
     },
     "execution_count": 19,
     "metadata": {},
     "output_type": "execute_result"
    }
   ],
   "source": [
    "df_zillow_data.head()"
   ]
  },
  {
   "cell_type": "markdown",
   "id": "8cb5d7dc",
   "metadata": {},
   "source": [
    "# Part 2: Storing Data"
   ]
  },
  {
   "cell_type": "code",
   "execution_count": 20,
   "id": "d1a82fc3",
   "metadata": {},
   "outputs": [],
   "source": [
    "def setup_new_postgis_database(username, db_name):\n",
    "    raise NotImplementedError()"
   ]
  },
  {
   "cell_type": "markdown",
   "id": "7c925bc8",
   "metadata": {},
   "source": [
    "### Creating Tables"
   ]
  },
  {
   "cell_type": "code",
   "execution_count": 21,
   "id": "b58ed6f1",
   "metadata": {},
   "outputs": [],
   "source": [
    "engine = db.create_engine(DB_URL)"
   ]
  },
  {
   "cell_type": "code",
   "execution_count": 22,
   "id": "de823605",
   "metadata": {},
   "outputs": [],
   "source": [
    "# if using SQL (as opposed to SQLAlchemy), define the SQL statements to create your 4 tables\n",
    "ZIPCODE_SCHEMA = \"\"\"\n",
    "CREATE TABLE nyc_zip_codes (\n",
    "    id SERIAL PRIMARY KEY,\n",
    "    zip_code INTEGER,\n",
    "    geom POLYGON\n",
    ")\n",
    "\"\"\"\n",
    "# geometry_column geometry(GeometryType, SRID)\n",
    "\n",
    "NYC_311_SCHEMA = \"\"\"\n",
    "CREATE TABLE complaints_311 (\n",
    "    id SERIAL PRIMARY KEY,\n",
    "    created_date TIMESTAMP,\n",
    "    incident_zip INTEGER,\n",
    "    complaints_type TEXT,\n",
    "    latitude NUMERIC(6),\n",
    "    longitude NUMERIC(6)\n",
    ")\n",
    "\"\"\"\n",
    "\n",
    "NYC_TREE_SCHEMA = \"\"\"\n",
    "CREATE TABLE trees (\n",
    "    id SERIAL PRIMARY KEY,\n",
    "    tree_id INTEGER,\n",
    "    tree_zip INTEGER,\n",
    "    spc_common TEXT,\n",
    "    health TEXT,\n",
    "    status TEXT,\n",
    "    geometry POINT, \n",
    "    latitude NUMERIC(6),\n",
    "    longitude NUMERIC(6)\n",
    ")\n",
    "\"\"\"\n",
    "\n",
    "ZILLOW_SCHEMA = \"\"\"\n",
    "CREATE TABLE rents (\n",
    "    id SERIAL PRIMARY KEY,\n",
    "    rent_zip INTEGER,\n",
    "    rent_date DATE,\n",
    "    rent NUMERIC(6)\n",
    ")\n",
    "\"\"\""
   ]
  },
  {
   "cell_type": "code",
   "execution_count": 23,
   "id": "34d1e00e",
   "metadata": {},
   "outputs": [],
   "source": [
    "# create that required schema.sql file\n",
    "with open(DB_SCHEMA_FILE, \"w\") as f:\n",
    "    f.write(ZIPCODE_SCHEMA)\n",
    "    f.write(NYC_311_SCHEMA)\n",
    "    f.write(NYC_TREE_SCHEMA)\n",
    "    f.write(ZILLOW_SCHEMA)"
   ]
  },
  {
   "cell_type": "code",
   "execution_count": 24,
   "id": "8495c5aa",
   "metadata": {},
   "outputs": [],
   "source": [
    "# If using SQL (as opposed to SQLAlchemy), execute the schema files to create tables\n",
    "with engine.connect() as connection:\n",
    "    \n",
    "    connection.execute(\"DROP TABLE IF EXISTS nyc_zip_codes, complaints_311, trees, rents CASCADE\") # if table already exists\n",
    "    \n",
    "    connection.execute(ZIPCODE_SCHEMA)\n",
    "    connection.execute(NYC_311_SCHEMA)\n",
    "    connection.execute(NYC_TREE_SCHEMA)\n",
    "    connection.execute(ZILLOW_SCHEMA)"
   ]
  },
  {
   "cell_type": "markdown",
   "id": "3169f726",
   "metadata": {},
   "source": [
    "### Add Data to Database"
   ]
  },
  {
   "cell_type": "code",
   "execution_count": 25,
   "id": "420f4f21",
   "metadata": {},
   "outputs": [
    {
     "name": "stderr",
     "output_type": "stream",
     "text": [
      "/Users/sareayang/anaconda3/lib/python3.11/site-packages/pandas/io/sql.py:1781: SAWarning: Did not recognize type 'point' of column 'geometry'\n",
      "  self.meta.reflect(bind=self.connectable, only=[table_name], schema=schema)\n"
     ]
    }
   ],
   "source": [
    "# dataframe to sql table\n",
    "df_zillow_data.to_sql('rents', con=engine, if_exists='replace', index=False)\n",
    "\n",
    "# GeoDataFrame data into a PostGIS-enabled PostgreSQL table\n",
    "geodf_311_data.to_postgis('complaints', con=engine, if_exists='replace', index=False)\n",
    "geodf_zipcode_data.to_postgis('zipcodes', con=engine, if_exists='replace', index=False)\n",
    "geodf_tree_data.to_postgis('trees', con=engine, if_exists='replace', index=False)"
   ]
  },
  {
   "cell_type": "code",
   "execution_count": 26,
   "id": "c92ec272",
   "metadata": {},
   "outputs": [
    {
     "name": "stdout",
     "output_type": "stream",
     "text": [
      "('180683', '11375', 'red maple', 'Fair', 'Alive', '40.72309177', '-73.84421522', '0101000020E61000008DB8459F077652C0758170458E5C4440')\n",
      "('200540', '11357', 'pin oak', 'Fair', 'Alive', '40.79411067', '-73.81867946', '0101000020E6100000F6E0863E657452C0FE45186BA5654440')\n",
      "('204026', '11211', 'honeylocust', 'Good', 'Alive', '40.71758074', '-73.9366077', '0101000020E61000008D197161F17B52C08B7B89AFD95B4440')\n",
      "('204337', '11211', 'honeylocust', 'Good', 'Alive', '40.71353749', '-73.93445616', '0101000020E61000001DD33421CE7B52C0A5635632555B4440')\n",
      "('189565', '11215', 'American linden', 'Good', 'Alive', '40.66677776', '-73.97597938', '0101000020E610000046DB3C72767E52C0A98636F958554440')\n"
     ]
    }
   ],
   "source": [
    "### test: check the table\n",
    "with engine.connect() as connection:\n",
    "    result = connection.execute(\n",
    "        \"\"\"\n",
    "        SELECT * FROM trees LIMIT 5\n",
    "        \"\"\"\n",
    "    )\n",
    "\n",
    "for row in result:\n",
    "    print(row)"
   ]
  },
  {
   "cell_type": "code",
   "execution_count": 27,
   "id": "c3121277",
   "metadata": {},
   "outputs": [
    {
     "name": "stdout",
     "output_type": "stream",
     "text": [
      "('zipcode', 'text')\n",
      "('geometry', 'USER-DEFINED')\n"
     ]
    }
   ],
   "source": [
    "### test: check the column names\n",
    "with engine.connect() as connection:\n",
    "    result = connection.execute(\n",
    "        \"\"\"\n",
    "        SELECT column_name, data_type\n",
    "        FROM information_schema.columns\n",
    "        WHERE table_name = 'zipcodes';\n",
    "        \"\"\"\n",
    "    )\n",
    "\n",
    "for row in result:\n",
    "    print(row)"
   ]
  },
  {
   "cell_type": "markdown",
   "id": "02abdef3",
   "metadata": {},
   "source": [
    "# Part 3: Understanding the Data"
   ]
  },
  {
   "cell_type": "code",
   "execution_count": 29,
   "id": "c4c447be",
   "metadata": {},
   "outputs": [],
   "source": [
    "QUERY_1 = \"\"\"\n",
    "SELECT incident_zip, COUNT(*) AS complaints_count\n",
    "FROM complaints\n",
    "WHERE\n",
    "    created_date BETWEEN '2022-10-01T00:00:00.000' AND '2023-09-30T23:59:59.999'\n",
    "GROUP BY incident_zip\n",
    "\"\"\""
   ]
  },
  {
   "cell_type": "code",
   "execution_count": 30,
   "id": "96b8daa0",
   "metadata": {},
   "outputs": [],
   "source": [
    "# table column name is the same as dataframe, not schema!!!\n",
    "QUERY_2 = \"\"\"\n",
    "SELECT zipcode, COUNT(*) AS total_trees\n",
    "FROM trees\n",
    "GROUP BY zipcode\n",
    "ORDER BY total_trees DESC\n",
    "LIMIT 10;\n",
    "\"\"\""
   ]
  },
  {
   "cell_type": "code",
   "execution_count": 78,
   "id": "2a74a7e2",
   "metadata": {},
   "outputs": [],
   "source": [
    "QUERY_3 = \"\"\"\n",
    "WITH top10_zipcodes AS (\n",
    "    SELECT zipcode, COUNT(*) AS total_trees\n",
    "    FROM trees\n",
    "    GROUP BY zipcode\n",
    "    ORDER BY total_trees DESC\n",
    "    LIMIT 10\n",
    ")\n",
    "\n",
    "SELECT t.zipcode, ROUND(AVG(r.rent_amount)::numeric, 2) AS average_rent\n",
    "FROM rents r\n",
    "JOIN trees t ON t.zipcode = r.rent_zip::text\n",
    "WHERE DATE_PART('month', r.rent_date) = 8\n",
    "    AND DATE_PART('year', r.rent_date) = 2023\n",
    "    AND r.rent_zip::text IN (SELECT zipcode FROM top10_zipcodes)\n",
    "GROUP BY t.zipcode\n",
    "ORDER BY (SELECT total_trees FROM top10_zipcodes WHERE zipcode = t.zipcode) DESC;\n",
    "\"\"\""
   ]
  }
 ],
 "metadata": {
  "kernelspec": {
   "display_name": "Python 3 (ipykernel)",
   "language": "python",
   "name": "python3"
  },
  "language_info": {
   "codemirror_mode": {
    "name": "ipython",
    "version": 3
   },
   "file_extension": ".py",
   "mimetype": "text/x-python",
   "name": "python",
   "nbconvert_exporter": "python",
   "pygments_lexer": "ipython3",
   "version": "3.11.3"
  }
 },
 "nbformat": 4,
 "nbformat_minor": 5
}
