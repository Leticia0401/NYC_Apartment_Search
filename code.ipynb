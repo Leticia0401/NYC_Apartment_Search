{
 "cells": [
  {
   "cell_type": "markdown",
   "id": "d62c65bb",
   "metadata": {},
   "source": [
    "# Setup"
   ]
  },
  {
   "cell_type": "code",
   "execution_count": 14,
   "id": "dc30ecee",
   "metadata": {},
   "outputs": [],
   "source": [
    "# All import statements needed for the project\n",
    "import json\n",
    "import requests\n",
    "import pandas as pd\n",
    "import urllib.parse\n",
    "import requests\n",
    "import pathlib\n",
    "from pathlib import Path\n",
    "import psycopg2\n",
    "import geoalchemy2 as gdb\n",
    "import geopandas as gpd\n",
    "import numpy as np\n",
    "import matplotlib.pyplot as plt\n",
    "import shapely\n",
    "import sqlalchemy as db\n",
    "import matplotlib as mpl\n",
    "import matplotlib.pyplot as plt\n",
    "from shapely.geometry import Point\n",
    "import matplotlib.animation as animation\n",
    "import unittest\n",
    "\n",
    "from sqlalchemy.orm import declarative_base"
   ]
  },
  {
   "cell_type": "code",
   "execution_count": 25,
   "id": "7de69d5b",
   "metadata": {},
   "outputs": [],
   "source": [
    "# Any constants you might need; some have been added for you\n",
    "\n",
    "# Where data files will be read from/written to - this should already exist\n",
    "#DATA_DIR = pathlib.Path(\"data\")\n",
    "#ZIPCODE_DATA_FILE = DATA_DIR / \"zipcodes\" / \"ZIP_CODE_040114.shp\"\n",
    "#ZILLOW_DATA_FILE = DATA_DIR / \"zillow_rent_data.csv\"\n",
    "ZIPCODE_DATA_FILE = 'data/zipcodes/nyc_zipcodes.shp'\n",
    "RENT_DATA_FILE = 'data/zillow_rent_data.csv'\n",
    "\n",
    "NYC_DATA_APP_TOKEN = \"qusZQnQU0ua9VbjGpXFDVhsbK\"\n",
    "BASE_NYC_DATA_URL = \"https://data.cityofnewyork.us/\"\n",
    "NYC_DATA_311 = \"erm2-nwe9.geojson\"\n",
    "NYC_DATA_TREES = \"5rq2-4hqu.geojson\"\n",
    "\n",
    "DB_NAME = \"FINAL_PROJECT_DATA\"\n",
    "DB_USER = \"leticialx\"\n",
    "DB_URL = f\"postgresql+psycopg2://{DB_USER}@localhost/{DB_NAME}\"\n",
    "DB_SCHEMA_FILE = \"schema.sql\"\n",
    "# directory where DB queries for Part 3 will be saved\n",
    "QUERY_DIR = pathlib.Path(\"queries\")"
   ]
  },
  {
   "cell_type": "code",
   "execution_count": 26,
   "id": "415d8cce",
   "metadata": {},
   "outputs": [],
   "source": [
    "# Make sure the QUERY_DIRECTORY exists\n",
    "if not QUERY_DIR.exists():\n",
    "    QUERY_DIR.mkdir()"
   ]
  },
  {
   "cell_type": "markdown",
   "id": "c26a32a9",
   "metadata": {},
   "source": [
    "# Part 1: Data Preprocessing"
   ]
  },
  {
   "cell_type": "code",
   "execution_count": 17,
   "id": "7fdfc6a6",
   "metadata": {},
   "outputs": [],
   "source": [
    "def download_nyc_geojson_data(url: str,\n",
    "                              file_name: str, \n",
    "                              force: bool = False) -> gpd.GeoDataFrame:\n",
    "    \"\"\"\n",
    "    Download NYC GeoJSON data from a provided URL and saves it to a file.\n",
    "    \n",
    "    Keyword arguments:\n",
    "    url (str) -- the URL from which the GeoJSON data will be downloaded\n",
    "    file_name (str) -- the name of the file (without extension) to save the GeoJSON data\n",
    "    force (bool, optional) -- if True, forces re-download of the file even if it exists locally (default is false)\n",
    "    \"\"\"\n",
    "    \n",
    "    filename = Path(file_name + '.geojson')\n",
    "    \n",
    "    if force or not filename.exists():\n",
    "        print(f\"Downloading {url} to {file_name}...\")\n",
    "    \n",
    "        response = requests.get(url)\n",
    "        text = response.text\n",
    "\n",
    "        with open(file_name + '.geojson', 'w') as file:\n",
    "            file.write(text)\n",
    "        print(f\"Done downloading {url}.\")\n",
    "        \n",
    "    else:\n",
    "        print(f\"Reading from {file_name}...\")\n",
    "    \n",
    "    gdf = gpd.read_file(file_name + '.geojson', driver = 'GeoJSON')\n",
    "    return gdf"
   ]
  },
  {
   "cell_type": "code",
   "execution_count": 18,
   "id": "e1383098",
   "metadata": {},
   "outputs": [],
   "source": [
    "def download_and_clean_311_data() -> gpd.GeoDataFrame:\n",
    "    \"\"\"Download and clean 311 complaints data.\"\"\"\n",
    "    \n",
    "    url = \"https://data.cityofnewyork.us/resource/erm2-nwe9.geojson?$$app_token=RbFfvU4T8a7C7rDHaA9eqAkvZ\"\n",
    "    \n",
    "    file_name = 'complaints_head(10000)'\n",
    "    complaints = download_nyc_geojson_data(url, file_name, force=False)\n",
    "    \n",
    "    # choose the columns we need\n",
    "    new_complaints = complaints[['created_date', 'incident_zip', 'complaint_type', 'geometry']]\n",
    "    \n",
    "    # normalize SRID to EPSG:4326\n",
    "    new_complaints = new_complaints.to_crs(epsg=4326)\n",
    "    \n",
    "    # delete NaN\n",
    "    columns_with_nan = new_complaints.columns[new_complaints.isnull().any()].tolist()\n",
    "    \n",
    "    for column_name in columns_with_nan:\n",
    "        print(\"Processing column:\", column_name)\n",
    "        new_complaints = new_complaints.dropna(subset=[column_name])\n",
    "        print(\"Removed rows with NaN value in\", column_name)\n",
    "\n",
    "    return new_complaints"
   ]
  },
  {
   "cell_type": "code",
   "execution_count": 19,
   "id": "df0242d0",
   "metadata": {},
   "outputs": [],
   "source": [
    "def download_and_clean_tree_data() -> gpd.GeoDataFrame:\n",
    "    \"\"\"Download and clean 2015 tree census data.\"\"\"\n",
    "    \n",
    "    url = \"https://data.cityofnewyork.us/resource/5rq2-4hqu.geojson?$$app_token=RbFfvU4T8a7C7rDHaA9eqAkvZ\"\n",
    "    file_name = 'trees_head(10000)'\n",
    "    trees = download_nyc_geojson_data(url, file_name, force=False)\n",
    "    \n",
    "    # normalize SRID to EPSG:4326\n",
    "    trees = trees.to_crs(epsg=4326)\n",
    "    \n",
    "    # delete NaN\n",
    "    columns_with_nan = trees.columns[trees.isnull().any()].tolist()\n",
    "    \n",
    "    for column_name in columns_with_nan:\n",
    "        print(\"Processing column:\", column_name)\n",
    "        trees = trees.dropna(subset=[column_name])\n",
    "        print(\"Removed rows with NaN value in\", column_name)\n",
    "        \n",
    "    # choose the columns we need\n",
    "    new_trees = trees[['tree_id', 'zipcode', 'spc_common', 'health', 'status','geometry']].copy()\n",
    "\n",
    "    return new_trees"
   ]
  },
  {
   "cell_type": "code",
   "execution_count": 20,
   "id": "d11aac1a",
   "metadata": {},
   "outputs": [],
   "source": [
    "def load_and_clean_zipcodes(zipcode_datafile: str) -> gpd.GeoDataFrame:\n",
    "    \"\"\"Load and clean NYC’s zip codes with geometric boundary data data.\"\"\"\n",
    "    \n",
    "    zipcode_data = gpd.read_file(zipcode_datafile)\n",
    "    \n",
    "    zipcodes = zipcode_data[['ZIPCODE', 'geometry']]\n",
    "    zipcodes = zipcodes.rename(columns={'ZIPCODE': 'zipcode'})\n",
    "    \n",
    "    # normalize SRID to EPSG:4326\n",
    "    zipcodes = zipcodes.to_crs(epsg=4326)\n",
    "    \n",
    "    return zipcodes"
   ]
  },
  {
   "cell_type": "code",
   "execution_count": 21,
   "id": "66c1bf2f",
   "metadata": {},
   "outputs": [],
   "source": [
    "def load_and_clean_zillow_data(rent_datafile: str) -> pd.DataFrame:\n",
    "    \"\"\"Load and clean historical monthly average rents by zip code from Zillow.\"\"\"\n",
    "    \n",
    "    zillow_rent_data = pd.read_csv(rent_datafile)\n",
    "    \n",
    "    columns_to_drop = ['RegionID', 'SizeRank', 'RegionType', 'State', 'StateName', 'City', 'Metro', 'CountyName']\n",
    "    df_zillow_data = zillow_rent_data.drop(columns=columns_to_drop)\n",
    "    \n",
    "    # rename columns\n",
    "    df_zillow_data = df_zillow_data.rename(columns={'RegionName': 'rent_zip'})\n",
    "    \n",
    "    # normalize rent data\n",
    "    rents = pd.melt(df_zillow_data, id_vars=['rent_zip'], var_name='rent_date', value_name='rent_amount')\n",
    "    \n",
    "    # set datetime type\n",
    "    rents['rent_date'] = pd.to_datetime(rents['rent_date'])\n",
    "    rents['rent_zip']\n",
    "    \n",
    "    return rents"
   ]
  },
  {
   "cell_type": "code",
   "execution_count": 22,
   "id": "8d44a4be",
   "metadata": {},
   "outputs": [],
   "source": [
    "def load_all_data() -> (gpd.GeoDataFrame, gpd.GeoDataFrame, gpd.GeoDataFrame, pd.DataFrame):\n",
    "    \"\"\"Load all data.\"\"\"\n",
    "    geodf_zipcode_data = load_and_clean_zipcodes(ZIPCODE_DATA_FILE)\n",
    "    geodf_311_data = download_and_clean_311_data()\n",
    "    geodf_tree_data = download_and_clean_tree_data()\n",
    "    df_zillow_data = load_and_clean_zillow_data(RENT_DATA_FILE)\n",
    "    return (\n",
    "        geodf_zipcode_data,\n",
    "        geodf_311_data,\n",
    "        geodf_tree_data,\n",
    "        df_zillow_data\n",
    "    )"
   ]
  },
  {
   "cell_type": "code",
   "execution_count": 11,
   "id": "4487d7b0",
   "metadata": {
    "collapsed": true
   },
   "outputs": [
    {
     "name": "stdout",
     "output_type": "stream",
     "text": [
      "Reading from complaints_head(10000)...\n",
      "Processing column: incident_zip\n",
      "Removed rows with NaN value in incident_zip\n",
      "Processing column: geometry\n",
      "Removed rows with NaN value in geometry\n",
      "Reading from trees_head(10000)...\n",
      "Processing column: health\n",
      "Removed rows with NaN value in health\n",
      "Processing column: steward\n",
      "Removed rows with NaN value in steward\n",
      "Processing column: spc_common\n",
      "Removed rows with NaN value in spc_common\n",
      "Processing column: problems\n",
      "Removed rows with NaN value in problems\n",
      "Processing column: spc_latin\n",
      "Removed rows with NaN value in spc_latin\n",
      "Processing column: guards\n",
      "Removed rows with NaN value in guards\n",
      "Processing column: sidewalk\n",
      "Removed rows with NaN value in sidewalk\n"
     ]
    }
   ],
   "source": [
    "geodf_zipcode_data, geodf_311_data, geodf_tree_data, df_zillow_data = load_all_data()"
   ]
  },
  {
   "cell_type": "code",
   "execution_count": 28,
   "id": "7e6eb1eb",
   "metadata": {},
   "outputs": [
    {
     "name": "stdout",
     "output_type": "stream",
     "text": [
      "<class 'geopandas.geodataframe.GeoDataFrame'>\n",
      "RangeIndex: 263 entries, 0 to 262\n",
      "Data columns (total 2 columns):\n",
      " #   Column    Non-Null Count  Dtype   \n",
      "---  ------    --------------  -----   \n",
      " 0   zipcode   263 non-null    object  \n",
      " 1   geometry  263 non-null    geometry\n",
      "dtypes: geometry(1), object(1)\n",
      "memory usage: 4.2+ KB\n"
     ]
    }
   ],
   "source": [
    "# Show basic info about each dataframe\n",
    "geodf_zipcode_data.info()"
   ]
  },
  {
   "cell_type": "code",
   "execution_count": 29,
   "id": "0b528574",
   "metadata": {},
   "outputs": [
    {
     "data": {
      "text/html": [
       "<div>\n",
       "<style scoped>\n",
       "    .dataframe tbody tr th:only-of-type {\n",
       "        vertical-align: middle;\n",
       "    }\n",
       "\n",
       "    .dataframe tbody tr th {\n",
       "        vertical-align: top;\n",
       "    }\n",
       "\n",
       "    .dataframe thead th {\n",
       "        text-align: right;\n",
       "    }\n",
       "</style>\n",
       "<table border=\"1\" class=\"dataframe\">\n",
       "  <thead>\n",
       "    <tr style=\"text-align: right;\">\n",
       "      <th></th>\n",
       "      <th>zipcode</th>\n",
       "      <th>geometry</th>\n",
       "    </tr>\n",
       "  </thead>\n",
       "  <tbody>\n",
       "    <tr>\n",
       "      <th>0</th>\n",
       "      <td>11436</td>\n",
       "      <td>POLYGON ((-73.80585 40.68291, -73.80569 40.682...</td>\n",
       "    </tr>\n",
       "    <tr>\n",
       "      <th>1</th>\n",
       "      <td>11213</td>\n",
       "      <td>POLYGON ((-73.93740 40.67973, -73.93487 40.679...</td>\n",
       "    </tr>\n",
       "    <tr>\n",
       "      <th>2</th>\n",
       "      <td>11212</td>\n",
       "      <td>POLYGON ((-73.90294 40.67084, -73.90223 40.668...</td>\n",
       "    </tr>\n",
       "    <tr>\n",
       "      <th>3</th>\n",
       "      <td>11225</td>\n",
       "      <td>POLYGON ((-73.95797 40.67066, -73.95576 40.670...</td>\n",
       "    </tr>\n",
       "    <tr>\n",
       "      <th>4</th>\n",
       "      <td>11218</td>\n",
       "      <td>POLYGON ((-73.97208 40.65060, -73.97192 40.650...</td>\n",
       "    </tr>\n",
       "  </tbody>\n",
       "</table>\n",
       "</div>"
      ],
      "text/plain": [
       "  zipcode                                           geometry\n",
       "0   11436  POLYGON ((-73.80585 40.68291, -73.80569 40.682...\n",
       "1   11213  POLYGON ((-73.93740 40.67973, -73.93487 40.679...\n",
       "2   11212  POLYGON ((-73.90294 40.67084, -73.90223 40.668...\n",
       "3   11225  POLYGON ((-73.95797 40.67066, -73.95576 40.670...\n",
       "4   11218  POLYGON ((-73.97208 40.65060, -73.97192 40.650..."
      ]
     },
     "execution_count": 29,
     "metadata": {},
     "output_type": "execute_result"
    }
   ],
   "source": [
    "# Show first 5 entries about each dataframe\n",
    "geodf_zipcode_data.head()"
   ]
  },
  {
   "cell_type": "code",
   "execution_count": 177,
   "id": "588dfead",
   "metadata": {
    "scrolled": false
   },
   "outputs": [
    {
     "name": "stdout",
     "output_type": "stream",
     "text": [
      "<class 'geopandas.geodataframe.GeoDataFrame'>\n",
      "RangeIndex: 34968354 entries, 0 to 34968353\n",
      "Data columns (total 4 columns):\n",
      " #   Column          Dtype         \n",
      "---  ------          -----         \n",
      " 0   created_date    datetime64[ns]\n",
      " 1   complaint_type  object        \n",
      " 2   incident_zip    object        \n",
      " 3   geometry        geometry      \n",
      "dtypes: datetime64[ns](1), geometry(1), object(2)\n",
      "memory usage: 1.0+ GB\n"
     ]
    }
   ],
   "source": [
    "geodf_311_data.info()"
   ]
  },
  {
   "cell_type": "code",
   "execution_count": 178,
   "id": "66f49871",
   "metadata": {
    "scrolled": true
   },
   "outputs": [
    {
     "data": {
      "text/html": [
       "<div>\n",
       "<style scoped>\n",
       "    .dataframe tbody tr th:only-of-type {\n",
       "        vertical-align: middle;\n",
       "    }\n",
       "\n",
       "    .dataframe tbody tr th {\n",
       "        vertical-align: top;\n",
       "    }\n",
       "\n",
       "    .dataframe thead th {\n",
       "        text-align: right;\n",
       "    }\n",
       "</style>\n",
       "<table border=\"1\" class=\"dataframe\">\n",
       "  <thead>\n",
       "    <tr style=\"text-align: right;\">\n",
       "      <th></th>\n",
       "      <th>created_date</th>\n",
       "      <th>complaint_type</th>\n",
       "      <th>incident_zip</th>\n",
       "      <th>geometry</th>\n",
       "    </tr>\n",
       "  </thead>\n",
       "  <tbody>\n",
       "    <tr>\n",
       "      <th>0</th>\n",
       "      <td>2020-06-24 11:56:52</td>\n",
       "      <td>Abandoned Vehicle</td>\n",
       "      <td>11377.0</td>\n",
       "      <td>POINT (-73.89207 40.74056)</td>\n",
       "    </tr>\n",
       "    <tr>\n",
       "      <th>1</th>\n",
       "      <td>2020-06-28 01:41:04</td>\n",
       "      <td>Noise - Residential</td>\n",
       "      <td>11207.0</td>\n",
       "      <td>POINT (-73.87824 40.65920)</td>\n",
       "    </tr>\n",
       "    <tr>\n",
       "      <th>2</th>\n",
       "      <td>2020-06-29 00:12:51</td>\n",
       "      <td>Illegal Fireworks</td>\n",
       "      <td>11423.0</td>\n",
       "      <td>POINT (-73.76501 40.71329)</td>\n",
       "    </tr>\n",
       "    <tr>\n",
       "      <th>3</th>\n",
       "      <td>2020-06-21 20:41:00</td>\n",
       "      <td>Noise - Residential</td>\n",
       "      <td>11221.0</td>\n",
       "      <td>POINT (-73.91622 40.69666)</td>\n",
       "    </tr>\n",
       "    <tr>\n",
       "      <th>4</th>\n",
       "      <td>2020-06-25 01:46:39</td>\n",
       "      <td>Illegal Fireworks</td>\n",
       "      <td>11216.0</td>\n",
       "      <td>POINT (-73.94790 40.67756)</td>\n",
       "    </tr>\n",
       "  </tbody>\n",
       "</table>\n",
       "</div>"
      ],
      "text/plain": [
       "         created_date       complaint_type incident_zip  \\\n",
       "0 2020-06-24 11:56:52    Abandoned Vehicle      11377.0   \n",
       "1 2020-06-28 01:41:04  Noise - Residential      11207.0   \n",
       "2 2020-06-29 00:12:51    Illegal Fireworks      11423.0   \n",
       "3 2020-06-21 20:41:00  Noise - Residential      11221.0   \n",
       "4 2020-06-25 01:46:39    Illegal Fireworks      11216.0   \n",
       "\n",
       "                     geometry  \n",
       "0  POINT (-73.89207 40.74056)  \n",
       "1  POINT (-73.87824 40.65920)  \n",
       "2  POINT (-73.76501 40.71329)  \n",
       "3  POINT (-73.91622 40.69666)  \n",
       "4  POINT (-73.94790 40.67756)  "
      ]
     },
     "execution_count": 178,
     "metadata": {},
     "output_type": "execute_result"
    }
   ],
   "source": [
    "geodf_311_data.head()"
   ]
  },
  {
   "cell_type": "code",
   "execution_count": 33,
   "id": "72549907",
   "metadata": {
    "scrolled": true
   },
   "outputs": [
    {
     "name": "stdout",
     "output_type": "stream",
     "text": [
      "<class 'geopandas.geodataframe.GeoDataFrame'>\n",
      "Int64Index: 652118 entries, 0 to 683787\n",
      "Data columns (total 6 columns):\n",
      " #   Column      Non-Null Count   Dtype   \n",
      "---  ------      --------------   -----   \n",
      " 0   tree_id     652118 non-null  object  \n",
      " 1   zipcode     652118 non-null  object  \n",
      " 2   spc_common  652118 non-null  object  \n",
      " 3   health      652118 non-null  object  \n",
      " 4   status      652118 non-null  object  \n",
      " 5   geometry    652118 non-null  geometry\n",
      "dtypes: geometry(1), object(5)\n",
      "memory usage: 34.8+ MB\n"
     ]
    }
   ],
   "source": [
    "geodf_tree_data.info()"
   ]
  },
  {
   "cell_type": "code",
   "execution_count": 34,
   "id": "fb4a5a1b",
   "metadata": {
    "scrolled": true
   },
   "outputs": [
    {
     "data": {
      "text/html": [
       "<div>\n",
       "<style scoped>\n",
       "    .dataframe tbody tr th:only-of-type {\n",
       "        vertical-align: middle;\n",
       "    }\n",
       "\n",
       "    .dataframe tbody tr th {\n",
       "        vertical-align: top;\n",
       "    }\n",
       "\n",
       "    .dataframe thead th {\n",
       "        text-align: right;\n",
       "    }\n",
       "</style>\n",
       "<table border=\"1\" class=\"dataframe\">\n",
       "  <thead>\n",
       "    <tr style=\"text-align: right;\">\n",
       "      <th></th>\n",
       "      <th>tree_id</th>\n",
       "      <th>zipcode</th>\n",
       "      <th>spc_common</th>\n",
       "      <th>health</th>\n",
       "      <th>status</th>\n",
       "      <th>geometry</th>\n",
       "    </tr>\n",
       "  </thead>\n",
       "  <tbody>\n",
       "    <tr>\n",
       "      <th>0</th>\n",
       "      <td>180683</td>\n",
       "      <td>11375</td>\n",
       "      <td>red maple</td>\n",
       "      <td>Fair</td>\n",
       "      <td>Alive</td>\n",
       "      <td>POINT (-73.84422 40.72309)</td>\n",
       "    </tr>\n",
       "    <tr>\n",
       "      <th>1</th>\n",
       "      <td>200540</td>\n",
       "      <td>11357</td>\n",
       "      <td>pin oak</td>\n",
       "      <td>Fair</td>\n",
       "      <td>Alive</td>\n",
       "      <td>POINT (-73.81868 40.79411)</td>\n",
       "    </tr>\n",
       "    <tr>\n",
       "      <th>2</th>\n",
       "      <td>204026</td>\n",
       "      <td>11211</td>\n",
       "      <td>honeylocust</td>\n",
       "      <td>Good</td>\n",
       "      <td>Alive</td>\n",
       "      <td>POINT (-73.93661 40.71758)</td>\n",
       "    </tr>\n",
       "    <tr>\n",
       "      <th>3</th>\n",
       "      <td>204337</td>\n",
       "      <td>11211</td>\n",
       "      <td>honeylocust</td>\n",
       "      <td>Good</td>\n",
       "      <td>Alive</td>\n",
       "      <td>POINT (-73.93446 40.71354)</td>\n",
       "    </tr>\n",
       "    <tr>\n",
       "      <th>4</th>\n",
       "      <td>189565</td>\n",
       "      <td>11215</td>\n",
       "      <td>American linden</td>\n",
       "      <td>Good</td>\n",
       "      <td>Alive</td>\n",
       "      <td>POINT (-73.97598 40.66678)</td>\n",
       "    </tr>\n",
       "  </tbody>\n",
       "</table>\n",
       "</div>"
      ],
      "text/plain": [
       "  tree_id zipcode       spc_common health status                    geometry\n",
       "0  180683   11375        red maple   Fair  Alive  POINT (-73.84422 40.72309)\n",
       "1  200540   11357          pin oak   Fair  Alive  POINT (-73.81868 40.79411)\n",
       "2  204026   11211      honeylocust   Good  Alive  POINT (-73.93661 40.71758)\n",
       "3  204337   11211      honeylocust   Good  Alive  POINT (-73.93446 40.71354)\n",
       "4  189565   11215  American linden   Good  Alive  POINT (-73.97598 40.66678)"
      ]
     },
     "execution_count": 34,
     "metadata": {},
     "output_type": "execute_result"
    }
   ],
   "source": [
    "geodf_tree_data.head()"
   ]
  },
  {
   "cell_type": "code",
   "execution_count": 31,
   "id": "4f8f0fb5",
   "metadata": {},
   "outputs": [
    {
     "name": "stdout",
     "output_type": "stream",
     "text": [
      "<class 'pandas.core.frame.DataFrame'>\n",
      "RangeIndex: 705810 entries, 0 to 705809\n",
      "Data columns (total 3 columns):\n",
      " #   Column       Non-Null Count   Dtype         \n",
      "---  ------       --------------   -----         \n",
      " 0   rent_zip     705810 non-null  int64         \n",
      " 1   rent_date    705810 non-null  datetime64[ns]\n",
      " 2   rent_amount  250167 non-null  float64       \n",
      "dtypes: datetime64[ns](1), float64(1), int64(1)\n",
      "memory usage: 16.2 MB\n"
     ]
    }
   ],
   "source": [
    "df_zillow_data.info()"
   ]
  },
  {
   "cell_type": "code",
   "execution_count": 30,
   "id": "1947a044",
   "metadata": {},
   "outputs": [
    {
     "data": {
      "text/html": [
       "<div>\n",
       "<style scoped>\n",
       "    .dataframe tbody tr th:only-of-type {\n",
       "        vertical-align: middle;\n",
       "    }\n",
       "\n",
       "    .dataframe tbody tr th {\n",
       "        vertical-align: top;\n",
       "    }\n",
       "\n",
       "    .dataframe thead th {\n",
       "        text-align: right;\n",
       "    }\n",
       "</style>\n",
       "<table border=\"1\" class=\"dataframe\">\n",
       "  <thead>\n",
       "    <tr style=\"text-align: right;\">\n",
       "      <th></th>\n",
       "      <th>rent_zip</th>\n",
       "      <th>rent_date</th>\n",
       "      <th>rent_amount</th>\n",
       "    </tr>\n",
       "  </thead>\n",
       "  <tbody>\n",
       "    <tr>\n",
       "      <th>0</th>\n",
       "      <td>77494</td>\n",
       "      <td>2015-01-31</td>\n",
       "      <td>1606.206406</td>\n",
       "    </tr>\n",
       "    <tr>\n",
       "      <th>1</th>\n",
       "      <td>77449</td>\n",
       "      <td>2015-01-31</td>\n",
       "      <td>1257.814660</td>\n",
       "    </tr>\n",
       "    <tr>\n",
       "      <th>2</th>\n",
       "      <td>77084</td>\n",
       "      <td>2015-01-31</td>\n",
       "      <td>NaN</td>\n",
       "    </tr>\n",
       "    <tr>\n",
       "      <th>3</th>\n",
       "      <td>79936</td>\n",
       "      <td>2015-01-31</td>\n",
       "      <td>NaN</td>\n",
       "    </tr>\n",
       "    <tr>\n",
       "      <th>4</th>\n",
       "      <td>11385</td>\n",
       "      <td>2015-01-31</td>\n",
       "      <td>NaN</td>\n",
       "    </tr>\n",
       "  </tbody>\n",
       "</table>\n",
       "</div>"
      ],
      "text/plain": [
       "   rent_zip  rent_date  rent_amount\n",
       "0     77494 2015-01-31  1606.206406\n",
       "1     77449 2015-01-31  1257.814660\n",
       "2     77084 2015-01-31          NaN\n",
       "3     79936 2015-01-31          NaN\n",
       "4     11385 2015-01-31          NaN"
      ]
     },
     "execution_count": 30,
     "metadata": {},
     "output_type": "execute_result"
    }
   ],
   "source": [
    "df_zillow_data.head()"
   ]
  },
  {
   "cell_type": "markdown",
   "id": "8cb5d7dc",
   "metadata": {},
   "source": [
    "# Part 2: Storing Data"
   ]
  },
  {
   "cell_type": "code",
   "execution_count": 20,
   "id": "d1a82fc3",
   "metadata": {},
   "outputs": [],
   "source": [
    "def setup_new_postgis_database(username, db_name):\n",
    "    raise NotImplementedError()"
   ]
  },
  {
   "cell_type": "markdown",
   "id": "7c925bc8",
   "metadata": {},
   "source": [
    "### Creating Tables"
   ]
  },
  {
   "cell_type": "code",
   "execution_count": 179,
   "id": "b58ed6f1",
   "metadata": {},
   "outputs": [],
   "source": [
    "engine = db.create_engine(DB_URL)"
   ]
  },
  {
   "cell_type": "code",
   "execution_count": 181,
   "id": "de823605",
   "metadata": {},
   "outputs": [],
   "source": [
    "# define the SQL statements to create 4 tables using SQL\n",
    "ZIPCODE_SCHEMA = \"\"\"\n",
    "CREATE TABLE nyc_zip_codes (\n",
    "    id SERIAL PRIMARY KEY,\n",
    "    zip_code INTEGER,\n",
    "    geom POLYGON\n",
    ")\n",
    "\"\"\"\n",
    "\n",
    "NYC_311_SCHEMA = \"\"\"\n",
    "CREATE TABLE complaints_311 (\n",
    "    id SERIAL PRIMARY KEY,\n",
    "    created_date TIMESTAMP,\n",
    "    complaints_type TEXT,\n",
    "    incident_zip INTEGER,\n",
    "    geometry POINT\n",
    ")\n",
    "\"\"\"\n",
    "\n",
    "NYC_TREE_SCHEMA = \"\"\"\n",
    "CREATE TABLE trees (\n",
    "    id SERIAL PRIMARY KEY,\n",
    "    tree_id INTEGER,\n",
    "    tree_zip INTEGER,\n",
    "    spc_common TEXT,\n",
    "    health TEXT,\n",
    "    status TEXT,\n",
    "    geometry POINT\n",
    ")\n",
    "\"\"\"\n",
    "\n",
    "ZILLOW_SCHEMA = \"\"\"\n",
    "CREATE TABLE rents (\n",
    "    id SERIAL PRIMARY KEY,\n",
    "    rent_zip INTEGER,\n",
    "    rent_date DATE,\n",
    "    rent NUMERIC(6)\n",
    ")\n",
    "\"\"\""
   ]
  },
  {
   "cell_type": "code",
   "execution_count": 182,
   "id": "34d1e00e",
   "metadata": {},
   "outputs": [],
   "source": [
    "# create that required schema.sql file\n",
    "with open(DB_SCHEMA_FILE, \"w\") as f:\n",
    "    f.write(ZIPCODE_SCHEMA)\n",
    "    f.write(NYC_311_SCHEMA)\n",
    "    f.write(NYC_TREE_SCHEMA)\n",
    "    f.write(ZILLOW_SCHEMA)"
   ]
  },
  {
   "cell_type": "code",
   "execution_count": 183,
   "id": "8495c5aa",
   "metadata": {},
   "outputs": [],
   "source": [
    "# execute the schema files to create tables using SQL\n",
    "with engine.connect() as connection:\n",
    "    \n",
    "    connection.execute(\"DROP TABLE IF EXISTS nyc_zip_codes, complaints_311, trees, rents CASCADE\") # if table already exists\n",
    "    \n",
    "    connection.execute(ZIPCODE_SCHEMA)\n",
    "    connection.execute(NYC_311_SCHEMA)\n",
    "    connection.execute(NYC_TREE_SCHEMA)\n",
    "    connection.execute(ZILLOW_SCHEMA)"
   ]
  },
  {
   "cell_type": "markdown",
   "id": "3169f726",
   "metadata": {},
   "source": [
    "### Add Data to Database"
   ]
  },
  {
   "cell_type": "code",
   "execution_count": 193,
   "id": "420f4f21",
   "metadata": {},
   "outputs": [
    {
     "name": "stderr",
     "output_type": "stream",
     "text": [
      "/Users/leticialx/anaconda3/lib/python3.11/site-packages/pandas/io/sql.py:1781: SAWarning: Did not recognize type 'point' of column 'geometry'\n",
      "  self.meta.reflect(bind=self.connectable, only=[table_name], schema=schema)\n"
     ]
    }
   ],
   "source": [
    "# dataframe to sql table\n",
    "df_zillow_data.to_sql('rents', con=engine, if_exists='replace', index=False)\n",
    "\n",
    "# GeoDataFrame data into a PostGIS-enabled PostgreSQL table\n",
    "geodf_311_data.to_postgis('complaints', con=engine, if_exists='replace', index=False)\n",
    "geodf_zipcode_data.to_postgis('zipcodes', con=engine, if_exists='replace', index=False)\n",
    "geodf_tree_data.to_postgis('trees', con=engine, if_exists='replace', index=False)"
   ]
  },
  {
   "cell_type": "markdown",
   "id": "02abdef3",
   "metadata": {},
   "source": [
    "# Part 3: Understanding the Data"
   ]
  },
  {
   "cell_type": "code",
   "execution_count": 194,
   "id": "461487ff",
   "metadata": {},
   "outputs": [],
   "source": [
    "# Helper function to write the queries to file\n",
    "def write_query_to_file(query: str, outfile: str):\n",
    "    with open(outfile, \"w\") as f:\n",
    "        f.write(query)"
   ]
  },
  {
   "cell_type": "markdown",
   "id": "92337e74",
   "metadata": {},
   "source": [
    "## Query 1: Which area might be more calm to live in?\n",
    "Between October 1st, 2022 and September 30th, 2023 (inclusive), find the number of 311 complaints per zip code. \n",
    "\n",
    "The query result should have two columns, one row per zip code, with the number of complaints in descending order.\n"
   ]
  },
  {
   "cell_type": "code",
   "execution_count": 195,
   "id": "c4c447be",
   "metadata": {},
   "outputs": [],
   "source": [
    "QUERY_1_FILENAME = QUERY_DIR / \"num_complaints_by_zipcode\"\n",
    "\n",
    "QUERY_1 = \"\"\"\n",
    "SELECT incident_zip, COUNT(*) AS complaints_count\n",
    "FROM complaints\n",
    "WHERE\n",
    "    created_date BETWEEN '2022-10-01T00:00:00.000' AND '2023-09-30T23:59:59.999'\n",
    "GROUP BY incident_zip\n",
    "\"\"\""
   ]
  },
  {
   "cell_type": "code",
   "execution_count": 196,
   "id": "1b009002",
   "metadata": {},
   "outputs": [],
   "source": [
    "write_query_to_file(QUERY_1, QUERY_1_FILENAME)"
   ]
  },
  {
   "cell_type": "code",
   "execution_count": 242,
   "id": "f50c5535",
   "metadata": {},
   "outputs": [
    {
     "name": "stdout",
     "output_type": "stream",
     "text": [
      "('0.0', 2)\n",
      "('10000.0', 693)\n",
      "('10001.0', 13278)\n",
      "('10002.0', 25706)\n",
      "('10003.0', 21846)\n",
      "('10004.0', 2580)\n",
      "('10005.0', 2113)\n",
      "('10006.0', 1629)\n",
      "('10007.0', 4199)\n",
      "('10009.0', 21159)\n",
      "('10010.0', 8031)\n",
      "('10011.0', 22282)\n",
      "('10012.0', 11634)\n",
      "('10013.0', 12488)\n",
      "('10014.0', 13477)\n",
      "('10016.0', 17270)\n",
      "('10017.0', 6788)\n",
      "('10018.0', 7694)\n",
      "('10019.0', 28403)\n",
      "('10020.0', 441)\n",
      "('10021.0', 9713)\n",
      "('10022.0', 9860)\n",
      "('10023.0', 27008)\n",
      "('10024.0', 16243)\n",
      "('10025.0', 31196)\n",
      "('10026.0', 21363)\n",
      "('10027.0', 25957)\n",
      "('10028.0', 14101)\n",
      "('10029.0', 21046)\n",
      "('10030.0', 18093)\n",
      "('10031.0', 33963)\n",
      "('10032.0', 32128)\n",
      "('10033.0', 23775)\n",
      "('10034.0', 22420)\n",
      "('10035.0', 18410)\n",
      "('10036.0', 20883)\n",
      "('10037.0', 7986)\n",
      "('10038.0', 6741)\n",
      "('10039.0', 11994)\n",
      "('10040.0', 19927)\n",
      "('10041.0', 33)\n",
      "('10044.0', 1040)\n",
      "('10045.0', 27)\n",
      "('10048.0', 23)\n",
      "('10055.0', 2)\n",
      "('10065.0', 8187)\n",
      "('10069.0', 602)\n",
      "('10075.0', 5810)\n",
      "('10080.0', 1)\n",
      "('10103.0', 81)\n",
      "('10105.0', 164)\n",
      "('10106.0', 45)\n",
      "('10107.0', 228)\n",
      "('10110.0', 26)\n",
      "('10111.0', 12)\n",
      "('10112.0', 28)\n",
      "('10115.0', 12)\n",
      "('10118.0', 54)\n",
      "('10119.0', 35)\n",
      "('10120.0', 49)\n",
      "('10121.0', 287)\n",
      "('10122.0', 4)\n",
      "('10123.0', 17)\n",
      "('10128.0', 12043)\n",
      "('10151.0', 83)\n",
      "('10152.0', 7)\n",
      "('10153.0', 153)\n",
      "('10154.0', 24)\n",
      "('10155.0', 4)\n",
      "('10158.0', 21)\n",
      "('10162.0', 39)\n",
      "('10165.0', 27)\n",
      "('10166.0', 7)\n",
      "('10167.0', 4)\n",
      "('10168.0', 60)\n",
      "('10169.0', 412)\n",
      "('10170.0', 24)\n",
      "('10171.0', 24)\n",
      "('10172.0', 101)\n",
      "('10173.0', 9)\n",
      "('10174.0', 16)\n",
      "('10175.0', 1)\n",
      "('10176.0', 8)\n",
      "('10177.0', 13)\n",
      "('10178.0', 22)\n",
      "('10179.0', 16)\n",
      "('10271.0', 34)\n",
      "('10278.0', 204)\n",
      "('10279.0', 15)\n",
      "('10280.0', 561)\n",
      "('10281.0', 68)\n",
      "('10282.0', 746)\n",
      "('10301.0', 13805)\n",
      "('10302.0', 6452)\n",
      "('10303.0', 6671)\n",
      "('10304.0', 12879)\n",
      "('10305.0', 10890)\n",
      "('10306.0', 15914)\n",
      "('10307.0', 3775)\n",
      "('10308.0', 6846)\n",
      "('10309.0', 10122)\n",
      "('10310.0', 6787)\n",
      "('10312.0', 17042)\n",
      "('10314.0', 20148)\n",
      "('10451.0', 20828)\n",
      "('10452.0', 44032)\n",
      "('10453.0', 38193)\n",
      "('10454.0', 13704)\n",
      "('10455.0', 18471)\n",
      "('10456.0', 39919)\n",
      "('10457.0', 41639)\n",
      "('10458.0', 41275)\n",
      "('10459.0', 20394)\n",
      "('10460.0', 27071)\n",
      "('10461.0', 22425)\n",
      "('10462.0', 30866)\n",
      "('10463.0', 27137)\n",
      "('10464.0', 2619)\n",
      "('10465.0', 14209)\n",
      "('10466.0', 32684)\n",
      "('10467.0', 47508)\n",
      "('10468.0', 44201)\n",
      "('10469.0', 21415)\n",
      "('10470.0', 9001)\n",
      "('10471.0', 7708)\n",
      "('10472.0', 25440)\n",
      "('10473.0', 15635)\n",
      "('10474.0', 6813)\n",
      "('10475.0', 3775)\n",
      "('10532.0', 1)\n",
      "('10550.0', 1)\n",
      "('10552.0', 1)\n",
      "('10553.0', 1)\n",
      "('10573.0', 1)\n",
      "('10701.0', 1)\n",
      "('10704.0', 1)\n",
      "('10710.0', 1)\n",
      "('10801.0', 1)\n",
      "('10803.0', 5)\n",
      "('10920.0', 1)\n",
      "('10950.0', 2)\n",
      "('10977.0', 2)\n",
      "('11001.0', 828)\n",
      "('11003.0', 1)\n",
      "('11004.0', 2419)\n",
      "('11005.0', 50)\n",
      "('11021.0', 1)\n",
      "('11030.0', 2)\n",
      "('11040.0', 657)\n",
      "('11050.0', 1)\n",
      "('11096.0', 1)\n",
      "('11101.0', 26049)\n",
      "('11102.0', 12376)\n",
      "('11103.0', 15457)\n",
      "('11104.0', 9675)\n",
      "('11105.0', 14386)\n",
      "('11106.0', 15078)\n",
      "('11109.0', 1848)\n",
      "('11111.0', 1)\n",
      "('11201.0', 39451)\n",
      "('11203.0', 27057)\n",
      "('11204.0', 21883)\n",
      "('11205.0', 17210)\n",
      "('11206.0', 25510)\n",
      "('11207.0', 40334)\n",
      "('11208.0', 36906)\n",
      "('11209.0', 25456)\n",
      "('11210.0', 21487)\n",
      "('11211.0', 25678)\n",
      "('11212.0', 27436)\n",
      "('11213.0', 25957)\n",
      "('11214.0', 26886)\n",
      "('11215.0', 25434)\n",
      "('11216.0', 28254)\n",
      "('11217.0', 20389)\n",
      "('11218.0', 25228)\n",
      "('11219.0', 19147)\n",
      "('11220.0', 29140)\n",
      "('11221.0', 33281)\n",
      "('11222.0', 25429)\n",
      "('11223.0', 24439)\n",
      "('11224.0', 14515)\n",
      "('11225.0', 28188)\n",
      "('11226.0', 49518)\n",
      "('11228.0', 11973)\n",
      "('11229.0', 22923)\n",
      "('11230.0', 29725)\n",
      "('11231.0', 19703)\n",
      "('11232.0', 12460)\n",
      "('11233.0', 25070)\n",
      "('11234.0', 25663)\n",
      "('11235.0', 27916)\n",
      "('11236.0', 22782)\n",
      "('11237.0', 23462)\n",
      "('11238.0', 30305)\n",
      "('11239.0', 11036)\n",
      "('11241.0', 18)\n",
      "('11242.0', 11)\n",
      "('11249.0', 13055)\n",
      "('11251.0', 41)\n",
      "('11354.0', 14084)\n",
      "('11355.0', 18899)\n",
      "('11356.0', 10015)\n",
      "('11357.0', 12915)\n",
      "('11358.0', 10793)\n",
      "('11359.0', 148)\n",
      "('11360.0', 3873)\n",
      "('11361.0', 9182)\n",
      "('11362.0', 3257)\n",
      "('11363.0', 1898)\n",
      "('11364.0', 7126)\n",
      "('11365.0', 12072)\n",
      "('11366.0', 18449)\n",
      "('11367.0', 8959)\n",
      "('11368.0', 29425)\n",
      "('11369.0', 12717)\n",
      "('11370.0', 7371)\n",
      "('11371.0', 21)\n",
      "('11372.0', 20635)\n",
      "('11373.0', 24184)\n",
      "('11374.0', 12318)\n",
      "('11375.0', 19153)\n",
      "('11377.0', 26473)\n",
      "('11378.0', 19227)\n",
      "('11379.0', 14790)\n",
      "('11385.0', 44065)\n",
      "('11411.0', 5667)\n",
      "('11412.0', 10626)\n",
      "('11413.0', 10874)\n",
      "('11414.0', 16283)\n",
      "('11415.0', 5688)\n",
      "('11416.0', 8619)\n",
      "('11417.0', 12168)\n",
      "('11418.0', 11818)\n",
      "('11419.0', 19796)\n",
      "('11420.0', 19606)\n",
      "('11421.0', 17267)\n",
      "('11422.0', 8069)\n",
      "('11423.0', 8447)\n",
      "('11426.0', 4206)\n",
      "('11427.0', 5084)\n",
      "('11428.0', 5488)\n",
      "('11429.0', 6222)\n",
      "('11430.0', 3074)\n",
      "('11431.0', 1)\n",
      "('11432.0', 19714)\n",
      "('11433.0', 14466)\n",
      "('11434.0', 16953)\n",
      "('11435.0', 16711)\n",
      "('11436.0', 7658)\n",
      "('11443.0', 1)\n",
      "('11510.0', 1)\n",
      "('11520.0', 1)\n",
      "('11530.0', 1)\n",
      "('11550.0', 1)\n",
      "('11552.0', 1)\n",
      "('11557.0', 1)\n",
      "('11558.0', 2)\n",
      "('11559.0', 1)\n",
      "('11580.0', 1)\n",
      "('11581.0', 1)\n",
      "('11590.0', 4)\n",
      "('11598.0', 1)\n",
      "('11691.0', 16100)\n",
      "('11692.0', 5662)\n",
      "('11693.0', 4257)\n",
      "('11694.0', 8377)\n",
      "('11695.0', 14)\n",
      "('11697.0', 113)\n",
      "('11702.0', 1)\n",
      "('11710.0', 1)\n",
      "('11713.0', 2)\n",
      "('11714.0', 2)\n",
      "('11735.0', 5)\n",
      "('11738.0', 1)\n",
      "('11747.0', 1)\n",
      "('11749.0', 1)\n",
      "('11756.0', 1)\n",
      "('11758.0', 1)\n",
      "('11762.0', 1)\n",
      "('11766.0', 2)\n",
      "('11772.0', 1)\n",
      "('11790.0', 1)\n",
      "('11791.0', 3)\n",
      "('11797.0', 1)\n",
      "('11801.0', 3)\n",
      "('11802.0', 1)\n",
      "('12212.0', 1)\n",
      "('12345.0', 51)\n",
      "('12550.0', 1)\n",
      "('12786.0', 1)\n",
      "('12983.0', 1)\n",
      "('13235.0', 1)\n",
      "('13601.0', 1)\n",
      "('14068.0', 1)\n",
      "('14207.0', 2)\n",
      "('14225.0', 3)\n",
      "('14621.0', 1)\n",
      "('15108.0', 1)\n",
      "('15220.0', 1)\n",
      "('17110.0', 3)\n",
      "('19013.0', 1)\n",
      "('19034.0', 1)\n",
      "('19151.0', 1)\n",
      "('19176.0', 1)\n",
      "('19601.0', 1)\n",
      "('19610.0', 1)\n",
      "('2026.0', 1)\n",
      "('2062.0', 4)\n",
      "('21031.0', 1)\n",
      "('29601.0', 1)\n",
      "('30067.0', 1)\n",
      "('30144.0', 1)\n",
      "('33241.0', 1)\n",
      "('33432.0', 2)\n",
      "('33496.0', 1)\n",
      "('34109.0', 1)\n",
      "('37217.0', 1)\n",
      "('37922.0', 1)\n",
      "('3833.0', 1)\n",
      "('40225.0', 1)\n",
      "('43017.0', 2)\n",
      "('43218.0', 1)\n",
      "('44087.0', 1)\n",
      "('44101.0', 1)\n",
      "('45040.0', 1)\n",
      "('48083.0', 2)\n",
      "('48331.0', 1)\n",
      "('48334.0', 2)\n",
      "('55164.0', 1)\n",
      "('60004.0', 1)\n",
      "('60018.0', 1)\n",
      "('60045.0', 1)\n",
      "('60076.0', 1)\n",
      "('60603.0', 1)\n",
      "('60604.0', 1)\n",
      "('7001.0', 1)\n",
      "('7002.0', 1)\n",
      "('7017.0', 1)\n",
      "('7052.0', 1)\n",
      "('7071.0', 1)\n",
      "('7072.0', 1)\n",
      "('7081.0', 1)\n",
      "('7083.0', 1)\n",
      "('7304.0', 1)\n",
      "('75001.0', 1)\n",
      "('75007.0', 1)\n",
      "('7501.0', 1)\n",
      "('7506.0', 1)\n",
      "('7652.0', 1)\n",
      "('7657.0', 2)\n",
      "('7712.0', 1)\n",
      "('7740.0', 1)\n",
      "('7834.0', 2)\n",
      "('7866.0', 1)\n",
      "('78758.0', 1)\n",
      "('82001.0', 1)\n",
      "('83.0', 2)\n",
      "('84117.0', 1)\n",
      "('8540.0', 1)\n",
      "('8816.0', 1)\n",
      "('8817.0', 1)\n",
      "('8837.0', 1)\n",
      "('8857.0', 1)\n",
      "('8901.0', 1)\n",
      "('90071.0', 1)\n",
      "('91302.0', 1)\n",
      "('92025.0', 1)\n",
      "('92101.0', 1)\n",
      "('92868.0', 1)\n",
      "('94158.0', 2)\n",
      "('94402.0', 1)\n",
      "('94804.0', 1)\n",
      "('95834.0', 1)\n",
      "('97208.0', 1)\n",
      "('98057.0', 2)\n",
      "('NaN', 39771)\n"
     ]
    }
   ],
   "source": [
    "# execute the query\n",
    "with engine.connect() as connection:\n",
    "    result = connection.execute(QUERY_1)\n",
    "\n",
    "for row in result:\n",
    "    print(row)"
   ]
  },
  {
   "cell_type": "markdown",
   "id": "0bcdc624",
   "metadata": {},
   "source": [
    "## Query 2: Where has the most greenery?\n",
    "Using just the trees table, which 10 zip codes have the most trees?\n",
    "\n",
    "The query result should have two columns, 10 rows. The rows should be sorted by the total number of trees, descending.\n"
   ]
  },
  {
   "cell_type": "code",
   "execution_count": 198,
   "id": "96b8daa0",
   "metadata": {},
   "outputs": [],
   "source": [
    "QUERY_2_FILENAME = QUERY_DIR / \"top_10_zipcodes_with_most_trees\"\n",
    "\n",
    "# table column name is the same as dataframe, not schema!!!\n",
    "QUERY_2 = \"\"\"\n",
    "SELECT zipcode, COUNT(*) AS total_trees\n",
    "FROM trees\n",
    "GROUP BY zipcode\n",
    "ORDER BY total_trees DESC\n",
    "LIMIT 10;\n",
    "\"\"\""
   ]
  },
  {
   "cell_type": "code",
   "execution_count": 199,
   "id": "d084b84b",
   "metadata": {},
   "outputs": [],
   "source": [
    "write_query_to_file(QUERY_2, QUERY_2_FILENAME)"
   ]
  },
  {
   "cell_type": "code",
   "execution_count": 200,
   "id": "7b9d4c90",
   "metadata": {},
   "outputs": [
    {
     "name": "stdout",
     "output_type": "stream",
     "text": [
      "('10312', 21356)\n",
      "('10314', 16330)\n",
      "('10306', 12616)\n",
      "('10309', 12105)\n",
      "('11234', 10838)\n",
      "('11385', 10262)\n",
      "('11357', 9016)\n",
      "('11207', 8293)\n",
      "('11208', 7895)\n",
      "('11434', 7833)\n"
     ]
    }
   ],
   "source": [
    "# execute the query\n",
    "with engine.connect() as connection:\n",
    "    result = connection.execute(QUERY_2)\n",
    "\n",
    "for row in result:\n",
    "    print(row)"
   ]
  },
  {
   "cell_type": "markdown",
   "id": "1e2b515e",
   "metadata": {},
   "source": [
    "## Query 3: Can I afford a place in the areas with the most trees?\n",
    "Of the 10 zip codes with the most trees, for the month of August 2023, what is the average rent by zip code?\n",
    "\n",
    "The query should have a JOIN statement. The query result should have two columns (not three) and 10 rows. The rows should be sorted by the total number of trees, descending. “Humanize” the rent numbers, meaning format the results as 2,879.58 instead of 2879.575128. "
   ]
  },
  {
   "cell_type": "code",
   "execution_count": 201,
   "id": "2a74a7e2",
   "metadata": {},
   "outputs": [],
   "source": [
    "QUERY_3_FILENAME = QUERY_DIR / \"avg_rent_for_top_10_zipcodes_with_most_trees\"\n",
    "\n",
    "QUERY_3 = \"\"\"\n",
    "WITH top10_zipcodes AS (\n",
    "    SELECT zipcode, COUNT(*) AS total_trees\n",
    "    FROM trees\n",
    "    GROUP BY zipcode\n",
    "    ORDER BY total_trees DESC\n",
    "    LIMIT 10\n",
    ")\n",
    "\n",
    "SELECT t.zipcode, ROUND(AVG(r.rent_amount)::numeric, 2) AS average_rent\n",
    "FROM rents r\n",
    "JOIN trees t ON t.zipcode = r.rent_zip::text\n",
    "WHERE DATE_PART('month', r.rent_date) = 8\n",
    "    AND DATE_PART('year', r.rent_date) = 2023\n",
    "    AND r.rent_zip::text IN (SELECT zipcode FROM top10_zipcodes)\n",
    "GROUP BY t.zipcode\n",
    "ORDER BY (SELECT total_trees FROM top10_zipcodes WHERE zipcode = t.zipcode) DESC;\n",
    "\"\"\""
   ]
  },
  {
   "cell_type": "code",
   "execution_count": 202,
   "id": "2926aeda",
   "metadata": {},
   "outputs": [],
   "source": [
    "write_query_to_file(QUERY_3, QUERY_3_FILENAME)"
   ]
  },
  {
   "cell_type": "code",
   "execution_count": 203,
   "id": "7984f1bc",
   "metadata": {},
   "outputs": [
    {
     "name": "stdout",
     "output_type": "stream",
     "text": [
      "('10312', Decimal('1775.09'))\n",
      "('10314', Decimal('2465.47'))\n",
      "('10306', Decimal('2331.54'))\n",
      "('10309', Decimal('1832.01'))\n",
      "('11234', Decimal('2312.31'))\n",
      "('11385', Decimal('3064.48'))\n",
      "('11357', Decimal('2458.81'))\n",
      "('11207', Decimal('3079.09'))\n",
      "('11208', Decimal('2737.55'))\n",
      "('11434', Decimal('2645.92'))\n"
     ]
    }
   ],
   "source": [
    "# execute the query\n",
    "with engine.connect() as connection:\n",
    "    result = connection.execute(QUERY_3)\n",
    "\n",
    "for row in result:\n",
    "    print(row)"
   ]
  },
  {
   "cell_type": "markdown",
   "id": "10c73871",
   "metadata": {},
   "source": [
    "## Query 4: Could there be a correlation between an area’s rent, the number of its trees, and the number of 311 complaints?\n",
    "For the month of January 2023, return the 5 zip codes with the lowest average rent, and 5 zipcodes of the highest average rent, and include the tree count and complaint count for each zip code by using JOIN statements.\n",
    "\n",
    "The query result should have 4 columns (zip code, average rent, tree count, and complaint count) and 10 rows: five with the highest average rent, and five with the lowest average rent. “Humanize” the rent numbers, meaning format the results as 2,879.58 instead of 2879.575128."
   ]
  },
  {
   "cell_type": "code",
   "execution_count": 204,
   "id": "8b96cbac",
   "metadata": {},
   "outputs": [],
   "source": [
    "QUERY_4_FILENAME = QUERY_DIR / \"rent_trees_complaints_correlation\"\n",
    "\n",
    "QUERY_4 = \"\"\"\n",
    "WITH RentData AS (\n",
    "    SELECT CAST(r.rent_zip AS TEXT) AS zipcode, \n",
    "           CAST(AVG(r.rent_amount) AS DECIMAL(10, 2)) AS average_rent\n",
    "    FROM rents r\n",
    "    WHERE DATE_PART('month', r.rent_date) = 1\n",
    "      AND DATE_PART('year', r.rent_date) = 2023\n",
    "    GROUP BY r.rent_zip\n",
    "),\n",
    "TreeData AS (\n",
    "    SELECT zipcode, COUNT(*) AS tree_count\n",
    "    FROM trees\n",
    "    GROUP BY zipcode\n",
    "),\n",
    "ComplaintData AS (\n",
    "    SELECT incident_zip AS zipcode, COUNT(*) AS complaint_count\n",
    "    FROM complaints\n",
    "    WHERE DATE_PART('month', created_date) = 1\n",
    "      AND DATE_PART('year', created_date) = 2023\n",
    "    GROUP BY incident_zip\n",
    "),\n",
    "LowestRent AS (\n",
    "    SELECT * FROM RentData\n",
    "    ORDER BY average_rent ASC\n",
    "    LIMIT 5\n",
    "),\n",
    "HighestRent AS (\n",
    "    SELECT * FROM RentData\n",
    "    ORDER BY average_rent DESC\n",
    "    LIMIT 5\n",
    ")\n",
    "SELECT lr.zipcode,\n",
    "       lr.average_rent AS formatted_rent,\n",
    "       COALESCE(td.tree_count, 0) AS tree_count,\n",
    "       COALESCE(cd.complaint_count, 0) AS complaint_count\n",
    "FROM LowestRent lr\n",
    "LEFT JOIN TreeData td ON lr.zipcode = td.zipcode\n",
    "LEFT JOIN ComplaintData cd ON lr.zipcode = cd.zipcode\n",
    "UNION ALL\n",
    "SELECT hr.zipcode,\n",
    "       hr.average_rent AS formatted_rent,\n",
    "       COALESCE(td.tree_count, 0) AS tree_count,\n",
    "       COALESCE(cd.complaint_count, 0) AS complaint_count\n",
    "FROM HighestRent hr\n",
    "LEFT JOIN TreeData td ON hr.zipcode = td.zipcode\n",
    "LEFT JOIN ComplaintData cd ON hr.zipcode = cd.zipcode;\n",
    "\"\"\""
   ]
  },
  {
   "cell_type": "code",
   "execution_count": 205,
   "id": "216a23f7",
   "metadata": {},
   "outputs": [],
   "source": [
    "write_query_to_file(QUERY_4, QUERY_4_FILENAME)"
   ]
  },
  {
   "cell_type": "code",
   "execution_count": 206,
   "id": "1fa45c7a",
   "metadata": {},
   "outputs": [
    {
     "name": "stdout",
     "output_type": "stream",
     "text": [
      "('50702', Decimal('723.07'), 0, 0)\n",
      "('48503', Decimal('701.58'), 0, 0)\n",
      "('72114', Decimal('723.04'), 0, 0)\n",
      "('67501', Decimal('631.74'), 0, 0)\n",
      "('61832', Decimal('648.49'), 0, 0)\n",
      "('1060', None, 0, 0)\n",
      "('1108', None, 0, 0)\n",
      "('1002', None, 0, 0)\n",
      "('1201', None, 0, 0)\n",
      "('1375', None, 0, 0)\n"
     ]
    }
   ],
   "source": [
    "# execute the query\n",
    "with engine.connect() as connection:\n",
    "    result = connection.execute(QUERY_4)\n",
    "\n",
    "for row in result:\n",
    "    print(row)"
   ]
  },
  {
   "cell_type": "markdown",
   "id": "0a4a7d21",
   "metadata": {},
   "source": [
    "## Query 5: Where has the most greenery (take 2)?\n",
    "Rewrite Query 2 to use both the trees table and the zipcodes table. Join both tables where the coordinate point of the tree is inside the polygon boundary of the zipcode as defined in the zipcode table.\n",
    "\n",
    "The query should have a JOIN statement. The query results should match exactly the results of Query 2."
   ]
  },
  {
   "cell_type": "code",
   "execution_count": 207,
   "id": "1b50c370",
   "metadata": {},
   "outputs": [],
   "source": [
    "QUERY_5_FILENAME = QUERY_DIR / \"top_10_zipcodes_with_most_trees_by_geometry\"\n",
    "\n",
    "QUERY_5 = \"\"\"\n",
    "SELECT z.zipcode, COUNT(*) AS total_trees\n",
    "FROM zipcodes z\n",
    "JOIN trees AS t ON ST_Contains(z.geometry, t.geometry)\n",
    "GROUP BY z.zipcode\n",
    "ORDER BY total_trees DESC\n",
    "LIMIT 10;\n",
    "\"\"\""
   ]
  },
  {
   "cell_type": "code",
   "execution_count": 208,
   "id": "a9e46ab2",
   "metadata": {},
   "outputs": [],
   "source": [
    "write_query_to_file(QUERY_5, QUERY_5_FILENAME)"
   ]
  },
  {
   "cell_type": "code",
   "execution_count": 209,
   "id": "dc5d030e",
   "metadata": {},
   "outputs": [
    {
     "name": "stdout",
     "output_type": "stream",
     "text": [
      "('10312', 21356)\n",
      "('10314', 16330)\n",
      "('10306', 12616)\n",
      "('10309', 12105)\n",
      "('11234', 10838)\n",
      "('11385', 10262)\n",
      "('11357', 9016)\n",
      "('11207', 8294)\n",
      "('11208', 7896)\n",
      "('11434', 7833)\n"
     ]
    }
   ],
   "source": [
    "# execute the query\n",
    "with engine.connect() as connection:\n",
    "    result = connection.execute(QUERY_5)\n",
    "\n",
    "for row in result:\n",
    "    print(row)"
   ]
  },
  {
   "cell_type": "markdown",
   "id": "f7ad142b",
   "metadata": {},
   "source": [
    "## Query 6: What is the immediate area like?\n",
    "Using the following coordinate pair on campus, which trees are within ½ mile radius of this point?\n",
    "Latitude: 40.80737875669467, Longitude: -73.96253174434912\n",
    "\n",
    "The result should have 5 columns (ID, species, health, status, and coordinate location of each tree).\n",
    "\n",
    "You may use regular Python to help construct the geometric object needed for setting the radius in the query.\n"
   ]
  },
  {
   "cell_type": "code",
   "execution_count": 210,
   "id": "1106c90e",
   "metadata": {},
   "outputs": [],
   "source": [
    "target_latitude = 40.80737875669467\n",
    "target_longitude = -73.96253174434912\n",
    "\n",
    "target_point = Point(target_longitude, target_latitude)\n",
    "\n",
    "# Create a circle with a radius of 0.5 miles around the target location\n",
    "radius = 0.5  # in miles\n",
    "circle_buffer = target_point.buffer(radius / 69)  # Assuming 1 degree of latitude is approximately 69 miles\n",
    "\n",
    "gdf_circle = gpd.GeoDataFrame(geometry=[circle_buffer])"
   ]
  },
  {
   "cell_type": "code",
   "execution_count": 211,
   "id": "b8e0f506",
   "metadata": {},
   "outputs": [],
   "source": [
    "QUERY_6_FILENAME = QUERY_DIR / \"trees_within_coordinate_pair\"\n",
    "\n",
    "QUERY_6 = f\"\"\"\n",
    "SELECT tree_id, spc_common, health, status, ST_AsText(geometry) AS coordinate_location\n",
    "FROM trees\n",
    "WHERE ST_Intersects(geometry, ST_GeomFromText('{circle_buffer.wkt}', 4326))\n",
    "\"\"\""
   ]
  },
  {
   "cell_type": "code",
   "execution_count": 212,
   "id": "ba375b8b",
   "metadata": {},
   "outputs": [],
   "source": [
    "write_query_to_file(QUERY_6, QUERY_6_FILENAME)"
   ]
  },
  {
   "cell_type": "code",
   "execution_count": 213,
   "id": "b8307549",
   "metadata": {},
   "outputs": [
    {
     "name": "stdout",
     "output_type": "stream",
     "text": [
      "('10312', 21356)\n",
      "('10314', 16330)\n",
      "('10306', 12616)\n",
      "('10309', 12105)\n",
      "('11234', 10838)\n",
      "('11385', 10262)\n",
      "('11357', 9016)\n",
      "('11207', 8294)\n",
      "('11208', 7896)\n",
      "('11434', 7833)\n"
     ]
    }
   ],
   "source": [
    "# execute the query\n",
    "with engine.connect() as connection:\n",
    "    result = connection.execute(QUERY_5)\n",
    "\n",
    "for row in result:\n",
    "    print(row)"
   ]
  },
  {
   "cell_type": "markdown",
   "id": "1024df9a",
   "metadata": {},
   "source": [
    "# Part 4: Visualizing Data"
   ]
  },
  {
   "cell_type": "code",
   "execution_count": 214,
   "id": "a8b467ea",
   "metadata": {},
   "outputs": [
    {
     "name": "stderr",
     "output_type": "stream",
     "text": [
      "/var/folders/x1/12cg6y756v1bg3krkyfd6whc0000gn/T/ipykernel_41327/534305541.py:3: MatplotlibDeprecationWarning: The seaborn styles shipped by Matplotlib are deprecated since 3.6, as they no longer correspond to the styles shipped by seaborn. However, they will remain available as 'seaborn-v0_8-<style>'. Alternatively, directly use the seaborn API instead.\n",
      "  plt.style.use(\"seaborn-dark\")  # Choose a color palett\n"
     ]
    }
   ],
   "source": [
    "# Render graphics directly in the notebook without having to call plt.show\n",
    "%matplotlib inline\n",
    "plt.style.use(\"seaborn-dark\")  # Choose a color palett"
   ]
  },
  {
   "cell_type": "code",
   "execution_count": 215,
   "id": "a368f213",
   "metadata": {},
   "outputs": [],
   "source": [
    "# Query to select data\n",
    "query1 = 'SELECT * FROM rents'\n",
    "query2 = 'SELECT * FROM complaints'\n",
    "query3 = 'SELECT * FROM trees'\n",
    "query4 = 'SELECT * FROM zipcodes'"
   ]
  },
  {
   "cell_type": "code",
   "execution_count": 216,
   "id": "b8dd18f2",
   "metadata": {},
   "outputs": [],
   "source": [
    "# Read all data into pandas DataFrame and geopandas GeoDataFrame\n",
    "rent_data = pd.read_sql(query1, engine)\n",
    "\n",
    "complaint_data = gpd.read_postgis(query2, con=engine, geom_col='geometry')\n",
    "tree_data = gpd.read_postgis(query3, con=engine, geom_col='geometry')\n",
    "zipcode_data = gpd.read_postgis(query4, con=engine, geom_col='geometry')"
   ]
  },
  {
   "cell_type": "markdown",
   "id": "87f4d2bc",
   "metadata": {},
   "source": [
    "## Visualization 1: What can I expect to put up with in NYC?\n",
    "First, find the top 3 complaint types for October 1st, 2022 to September 30th, 2023 (inclusive). \n",
    "\n",
    "Then, create an appropriate visualization for the number of complaints per day over $timeframe for those complaint types.  "
   ]
  },
  {
   "cell_type": "code",
   "execution_count": 217,
   "id": "b291ea35",
   "metadata": {},
   "outputs": [],
   "source": [
    "# final data selection - skipped for now\n",
    "def get_data_for_visual_1() -> pd.DataFrame:\n",
    "    \"\"\"Get the dataframe needed for visualization 1.\"\"\"\n",
    "    \n",
    "    # Set time range\n",
    "    start_date = pd.Timestamp('2022-10-01')\n",
    "    end_date = pd.Timestamp('2023-09-30')\n",
    "    # Select data within the time range\n",
    "    complaint_data_filtered = complaint_data.loc[(complaint_data['created_date'] >= start_date) \n",
    "                              & (complaint_data['created_date'] <= end_date)]\n",
    "    # Select data of top 3 complaint types\n",
    "    top_3_types = complaint_data_filtered['complaint_type'].value_counts().nlargest(3).index.tolist()\n",
    "    df_top3 =  complaint_data[complaint_data['complaint_type'].isin(top_3_types)].copy()\n",
    "    # Group data by creation date\n",
    "    df_top3['created_date'] = pd.to_datetime(df_top3['created_date'])\n",
    "    df_top3_grouped = df_top3.groupby(df_top3['created_date'].dt.date)['incident_zip'].size().reset_index(name='count')\n",
    "    \n",
    "    return df_top3_grouped"
   ]
  },
  {
   "cell_type": "code",
   "execution_count": 218,
   "id": "5f524853",
   "metadata": {},
   "outputs": [],
   "source": [
    "# test: use current data\n",
    "top_3_types = complaint_data['complaint_type'].value_counts().nlargest(3).index.tolist()\n",
    "df_top3 =  complaint_data[complaint_data['complaint_type'].isin(top_3_types)].copy()\n",
    "\n",
    "df_top3['created_date'] = pd.to_datetime(df_top3['created_date'])\n",
    "\n",
    "df_top3_grouped = df_top3.groupby(df_top3['created_date'].dt.date)['incident_zip'].size().reset_index(name='count')"
   ]
  },
  {
   "cell_type": "code",
   "execution_count": 219,
   "id": "a0cdf5de",
   "metadata": {},
   "outputs": [],
   "source": [
    "# visulization\n",
    "def top_3_complaint_types(df_top3_grouped: pd.DataFrame):\n",
    "    \"\"\"Create the plot 'Number of Complaints per Day for Top 3 Complaint Types'.\"\"\"\n",
    "    \n",
    "    df_top3_grouped.plot(kind='line', figsize=(10, 6))\n",
    "    plt.title('Number of Complaints per Day for Top 3 Complaint Types')\n",
    "    plt.xlabel('Date')\n",
    "    plt.ylabel('Number of Complaints')\n",
    "    plt.legend(title='Complaint Type')\n",
    "    plt.grid(True)"
   ]
  },
  {
   "cell_type": "code",
   "execution_count": 220,
   "id": "d6cd414c",
   "metadata": {},
   "outputs": [
    {
     "data": {
      "image/png": "[encoded data removed]",
      "text/plain": [
       "<Figure size 1000x600 with 1 Axes>"
      ]
     },
     "metadata": {},
     "output_type": "display_data"
    }
   ],
   "source": [
    "top_3_complaint_types(df_top3_grouped)"
   ]
  },
  {
   "cell_type": "markdown",
   "id": "337fa936",
   "metadata": {},
   "source": [
    "### Extra credit 1: animation"
   ]
  },
  {
   "cell_type": "code",
   "execution_count": 222,
   "id": "a27114c0",
   "metadata": {},
   "outputs": [
    {
     "data": {
      "image/png": "[encoded data removed]",
      "text/plain": [
       "<Figure size 1000x600 with 1 Axes>"
      ]
     },
     "metadata": {},
     "output_type": "display_data"
    }
   ],
   "source": [
    "fig, ax = plt.subplots(figsize=(10, 6))\n",
    "\n",
    "# Function to update the plot for each frame in the animation\n",
    "def update(frame: int):\n",
    "    \"\"\"\n",
    "    A Function for the animation\n",
    "    \n",
    "    Parameters:\n",
    "    frame(int): Frame number for the animation\n",
    "    \"\"\"\n",
    "    ax.clear()\n",
    "    ax.plot(df_top3_grouped.index[:frame+1], df_top3_grouped.values[:frame+1])\n",
    "    ax.set_title('Number of Complaints per Day')\n",
    "    ax.set_xlabel('Date')\n",
    "    ax.set_ylabel('Number of Complaints')\n",
    "    ax.grid(True)\n",
    "\n",
    "# Create the animation\n",
    "ani = animation.FuncAnimation(fig, update, frames=len(df_top3_grouped), interval=100, repeat=False)"
   ]
  },
  {
   "cell_type": "markdown",
   "id": "53e0c8e6",
   "metadata": {},
   "source": [
    "## Visualization 2: What are the most common complaints in the immediate area?¶\n",
    "Create a visualization that shows the number of complaints by complaint type for the top 10 complaints in zip code 10027 for October 1st, 2018 to September 30th, 2023 (inclusive)."
   ]
  },
  {
   "cell_type": "code",
   "execution_count": 223,
   "id": "86d583a7",
   "metadata": {},
   "outputs": [],
   "source": [
    "# final data selection - skipped for now\n",
    "def get_data_for_visual_2() -> pd.Series:\n",
    "    \"\"\"Get the dataframe needed for visualization 2.\"\"\"\n",
    "    \n",
    "    # Set time range\n",
    "    start_date = pd.Timestamp('2018-10-01')\n",
    "    end_date = pd.Timestamp('2023-09-30')\n",
    "    # Select the data within the time range in zip code 10027 \n",
    "    df_zipcode_10027 = complaint_data.loc[(complaint_data['incident_zip'] == 10027.0) &\n",
    "                          (complaint_data['created_date'] >= start_date) &\n",
    "                          (complaint_data['created_date'] <= end_date)]\n",
    "    # Get the top 10 complaint types\n",
    "    df_top10 = complaint_data['complaint_type'].value_counts().nlargest(10)\n",
    "    \n",
    "    return df_top10"
   ]
  },
  {
   "cell_type": "code",
   "execution_count": 224,
   "id": "a23411de",
   "metadata": {},
   "outputs": [],
   "source": [
    "# test: use current data\n",
    "df_top10 = complaint_data['complaint_type'].value_counts().nlargest(10)"
   ]
  },
  {
   "cell_type": "code",
   "execution_count": 225,
   "id": "d4c47733",
   "metadata": {},
   "outputs": [],
   "source": [
    "# visualization\n",
    "def top_10_complaint_types_10027(df_top10: pd.Series):\n",
    "    \"\"\"Greate the histogram of 'Top 10 Complaint Types in Zip Code 10027'.\"\"\"\n",
    "    \n",
    "    plt.figure(figsize=(10, 6))\n",
    "    df_top10.plot(kind='bar', color='skyblue')\n",
    "    \n",
    "    plt.xlabel('Complaint Type')\n",
    "    plt.ylabel('Frequency')\n",
    "    plt.title('Top 10 Complaint Types in Zip Code 10027')\n",
    "    \n",
    "    plt.xticks(rotation=45)"
   ]
  },
  {
   "cell_type": "code",
   "execution_count": 60,
   "id": "385372b0",
   "metadata": {},
   "outputs": [
    {
     "data": {
      "image/png": "[encoded data removed]",
      "text/plain": [
       "<Figure size 1000x600 with 1 Axes>"
      ]
     },
     "metadata": {},
     "output_type": "display_data"
    }
   ],
   "source": [
    "top_10_complaint_types_10027(df_top10)"
   ]
  },
  {
   "cell_type": "markdown",
   "id": "64eb36c9",
   "metadata": {},
   "source": [
    "## Visualization 3: Is there any correlation between rent, trees, and complaints at all?\n",
    "Between January 1st, 2015 and September 30th, 2023 (inclusive), create a visualization using 2 subplots that share the x-axis where one subplot shows rent compared to the number of trees by zip code, and the other subplot shows rent compared to the number of complaints by zip code."
   ]
  },
  {
   "cell_type": "code",
   "execution_count": 226,
   "id": "ece23ebd",
   "metadata": {},
   "outputs": [],
   "source": [
    "# final data selection - skipped for now\n",
    "def get_data_for_visual_3() -> pd.DataFrame:\n",
    "    \"\"\"Get the dataframe needed for visualization 3.\"\"\"\n",
    "    \n",
    "    # Select rent data within the time range\n",
    "    rent_data_filtered = rent_data[(rent_data['rent_date'] >= '2015-01-01') \n",
    "                                   & (rent_data['rent_date'] <= '2023-09-30')]\n",
    "    # Match column data type\n",
    "    rent_data_filtered['rent_zip'] = rent_data_filtered['rent_zip'].astype(str) \n",
    "    # Calculate average rent for each zipcode during the time frame\n",
    "    rent_data = rent_data.groupby('rent_zip')['rent_amount'].mean().reset_index()\n",
    "    rent_data.columns = ['rent_zip', 'average_rent']\n",
    "    \n",
    "    # Select the complaint data within time range\n",
    "    complaint_data_filtered = complaint_data[(complaint_data['created_date'] >= '2015-01-01') \n",
    "                                             & (complaint_data['created_date'] <= '2023-09-30')]\n",
    "    # Group complaints and trees by zipcode\n",
    "    complaint_by_zip = complaint_data_filtered.groupby('incident_zip').size().reset_index(name='num_complaints')\n",
    "    trees_by_zip = tree_data.groupby('zipcode').size().reset_index(name='num_trees')\n",
    "    # Merge filtered data frame\n",
    "    merged_data = rent_data_filtered.merge(trees_by_zip, left_on='rent_zip', right_on='zipcode', how='inner')\n",
    "    merged_data = merged_data.merge(complaint_by_zip, left_on='rent_zip', right_on='incident_zip', how='inner')\n",
    "    \n",
    "    return merged_data"
   ]
  },
  {
   "cell_type": "code",
   "execution_count": 227,
   "id": "cce4642f",
   "metadata": {},
   "outputs": [],
   "source": [
    "# test:\n",
    "# rent_data_filtered = rent_data[(rent_data['rent_date'] >= '2015-01-01') & (rent_data['rent_date'] <= '2023-09-30')]\n",
    "rent_data['rent_zip'] = rent_data['rent_zip'].astype(str) # match column data type\n",
    "rent_data_test3 = rent_data.groupby('rent_zip')['rent_amount'].mean().reset_index()\n",
    "rent_data_test3.columns = ['rent_zip', 'average_rent']\n",
    "\n",
    "# complaint_data_filtered = complaint_data[(complaint_data['created_date'] >= '2015-01-01') & (complaint_data['created_date'] <= '2023-09-30')]\n",
    "complaint_by_zip = complaint_data.groupby('incident_zip').size().reset_index(name='num_complaints')\n",
    "\n",
    "trees_by_zip = tree_data.groupby('zipcode').size().reset_index(name='num_trees')\n",
    "\n",
    "merged_data = rent_data_test3.merge(trees_by_zip, left_on='rent_zip', right_on='zipcode', how='inner')\n",
    "merged_data = merged_data.merge(complaint_by_zip, left_on='rent_zip', right_on='incident_zip', how='inner')"
   ]
  },
  {
   "cell_type": "code",
   "execution_count": 228,
   "id": "893c0c10",
   "metadata": {},
   "outputs": [],
   "source": [
    "# visualization\n",
    "def rent_trees_complaints_correlation(merged_data: pd.DataFrame):\n",
    "    \"\"\"Create the 2 subplots on the correlation between rent, trees, and complaints.\"\"\"\n",
    "    \n",
    "    fig, (ax1, ax2) = plt.subplots(2, 1, sharex=True, figsize=(10, 8))\n",
    "    \n",
    "    ax1.scatter(merged_data['average_rent'], merged_data['num_trees'])\n",
    "    ax1.set_ylabel('Number of Trees')\n",
    "    \n",
    "    ax2.scatter(merged_data['average_rent'], merged_data['num_complaints'])\n",
    "    ax2.set_ylabel('Number of Complaints')\n",
    "    \n",
    "    plt.xlabel('Rent')"
   ]
  },
  {
   "cell_type": "code",
   "execution_count": 229,
   "id": "c082b4ea",
   "metadata": {},
   "outputs": [
    {
     "data": {
      "image/png": "[encoded data removed]",
      "text/plain": [
       "<Figure size 1000x800 with 2 Axes>"
      ]
     },
     "metadata": {},
     "output_type": "display_data"
    }
   ],
   "source": [
    "rent_trees_complaints_correlation(merged_data)"
   ]
  },
  {
   "cell_type": "markdown",
   "id": "22668664",
   "metadata": {},
   "source": [
    "## Visualization 4: If I can afford more in rent, will there be fewer issues & complaints?\n",
    "Create a boxplot, where the x-axis is average rent in September 2023, separated into $1000 bins (i.e. $0-1000, $1001-2000, etc), and the y-axis is the number of 311 complaints observed in each zip code between October 1, 2022 (inclusive) to September 30, 2023 (inclusive)."
   ]
  },
  {
   "cell_type": "code",
   "execution_count": 230,
   "id": "0f11b2bc",
   "metadata": {},
   "outputs": [],
   "source": [
    "# final data selection - skipped for now\n",
    "def get_data_for_visual_4() -> pd.DataFrame:\n",
    "    \"\"\"Get the dataframe needed for visualization 4.\"\"\"\n",
    "    \n",
    "    # Define bin ranges and labels for rent amounts\n",
    "    bins = [0, 1000, 2000, 3000, 4000, np.inf]\n",
    "    bin_labels = ['0-1000', '1001-2000', '2001-3000', '3001-4000', '4001+']\n",
    "    \n",
    "    # Match column data type\n",
    "    rent_data['rent_zip'] = rent_data['rent_zip'].astype(str)\n",
    "    # Select data within the time range and divide into bins\n",
    "    rent_data['rent_bin'] = pd.cut(rent_data['rent_amount'], bins=bins, labels=bin_labels)\n",
    "    rent_data_sept_2023 = rent_data[(rent_data['rent_date'] <= '2023-09-30')\n",
    "                                    & (rent_data['rent_date'] >= '2023-09-01')]\n",
    "    average_rent_by_zipcode = rent_data_sept_2023.groupby('rent_zip')['rent_amount'].mean().reset_index()\n",
    "    average_rent_by_zipcode.columns = ['rent_zip', 'average_rent']\n",
    "    average_rent_by_zipcode['rent_bin'] = pd.cut(average_rent_by_zipcode['average_rent'], bins=bins, labels=bin_labels)\n",
    "    \n",
    "    # Filter and groupby complaint data\n",
    "    complaints_data_filtered = complaint_data[(complaint_data['created_date'] >= '2022-10-01') \n",
    "                                              & (complaint_data['created_date'] <= '2023-09-30')]\n",
    "    complaints_by_zip = complaints_data_filtered.groupby('incident_zip').size().reset_index(name='num_complaints')\n",
    "    \n",
    "    # Merge data\n",
    "    merged_data = rent_data_sept_2023.merge(complaints_by_zip, left_on='rent_zip', right_on='incident_zip', how='inner')\n",
    "    \n",
    "    return merged_data"
   ]
  },
  {
   "cell_type": "code",
   "execution_count": 231,
   "id": "6f29a475",
   "metadata": {},
   "outputs": [],
   "source": [
    "# test:   \n",
    "#rent_data_sept_2023 = rent_data[(rent_data['rent_date'] >= '2023-09-01') & (rent_data['rent_date'] <= '2023-09-30')]\n",
    "bins = [0, 1000, 2000, 3000, 4000, np.inf]\n",
    "bin_labels = ['0-1000', '1001-2000', '2001-3000', '3001-4000', '4001+']\n",
    "\n",
    "rent_data['rent_zip'] = rent_data['rent_zip'].astype(str) # match column data type\n",
    "\n",
    "# Select data within the time range and divide into bins\n",
    "rent_data_sept_2023 = rent_data[(rent_data['rent_date'] <= '2023-09-30')\n",
    "                                & (rent_data['rent_date'] >= '2023-09-01')].groupby('rent_zip')['rent_amount'].mean().reset_index()\n",
    "\n",
    "average_rent_by_zipcode = rent_data_sept_2023.groupby('rent_zip')['rent_amount'].mean().reset_index()\n",
    "average_rent_by_zipcode.columns = ['rent_zip', 'average_rent']\n",
    "average_rent_by_zipcode['rent_bin'] = pd.cut(average_rent_by_zipcode['average_rent'], bins=bins, labels=bin_labels)\n",
    "\n",
    "#complaints_data_filtered = complaints_data[(complaints_data['created_date'] >= '2022-10-01') & (complaints_data['created_date'] <= '2023-09-30')]\n",
    "\n",
    "complaints_by_zip = complaint_data.groupby('incident_zip').size().reset_index(name='num_complaints')\n",
    "\n",
    "merged_data = average_rent_by_zipcode.merge(complaints_by_zip, left_on='rent_zip', right_on='incident_zip', how='inner')"
   ]
  },
  {
   "cell_type": "code",
   "execution_count": 232,
   "id": "71258a2a",
   "metadata": {},
   "outputs": [],
   "source": [
    "# visulization\n",
    "def rent_complaints_correlation(merged_data: pd.DataFrame):\n",
    "    \"\"\"Create the plot 'Boxplot of Rent vs. 311 Complaints'.\"\"\"\n",
    "    \n",
    "    plt.figure(figsize=(10, 6))\n",
    "    plt.boxplot([merged_data[merged_data['rent_bin'] == label]['num_complaints'] for label in bin_labels], labels=bin_labels)\n",
    "    plt.xlabel('Average Rent in September 2023 (Bins)')\n",
    "    plt.ylabel('Number of 311 Complaints (Oct 1, 2022 - Sep 30, 2023)')\n",
    "    plt.title('Boxplot of Rent vs. 311 Complaints')"
   ]
  },
  {
   "cell_type": "code",
   "execution_count": 233,
   "id": "17b8002e",
   "metadata": {},
   "outputs": [
    {
     "data": {
      "image/png": "[encoded data removed]",
      "text/plain": [
       "<Figure size 1000x600 with 1 Axes>"
      ]
     },
     "metadata": {},
     "output_type": "display_data"
    }
   ],
   "source": [
    "rent_complaints_correlation(merged_data)"
   ]
  },
  {
   "cell_type": "markdown",
   "id": "ae45eef8",
   "metadata": {},
   "source": [
    "## Visualization 5: Where were the recent 311 incidents reported from in the immediate area?\n",
    "Create a geospatial plot of the coordinates of reported 311 incidents that happened between January 1st, 2023 and September 30th, 2023 (inclusive) within a 1 kilometer radius of the same coordinate from Query 6 in Part 3."
   ]
  },
  {
   "cell_type": "code",
   "execution_count": 234,
   "id": "a2e6b21c",
   "metadata": {},
   "outputs": [],
   "source": [
    "# final data selection - skipped for now\n",
    "def get_data_for_visual_5() -> gpd.GeoDataFrame:\n",
    "    \"\"\"Get the dataframe needed for visualization 5.\"\"\"\n",
    "    # Select data within time range\n",
    "    complaints_data_filtered = complaint_data[(complaint_data['created_date'] >= '2023-01-01') \n",
    "                                              & (complaint_data['created_date'] <= '2023-09-30')]\n",
    "    \n",
    "    # Create a Point geometry of the target location\n",
    "    target_latitude = 40.80737875669467\n",
    "    target_longitude = -73.96253174434912\n",
    "    target_point = Point(target_longitude, target_latitude)\n",
    "    \n",
    "    # Calculate distance between incidents and the target location\n",
    "    complaints_data_filtered['distance_to_target'] = complaints_data_filtered['geometry'].distance(target_point)\n",
    "    \n",
    "    # Filter incidents within a 1-kilometer radius of the target location\n",
    "    df_incidents_within_radius = complaints_data_filtered[complaints_data_filtered['distance_to_target'] <= 1000]  # Distance in meters (1 kilometer = 1000 meters)\n",
    "    \n",
    "    return df_incidents_within_radius"
   ]
  },
  {
   "cell_type": "code",
   "execution_count": 235,
   "id": "2cb4822e",
   "metadata": {},
   "outputs": [
    {
     "name": "stderr",
     "output_type": "stream",
     "text": [
      "/var/folders/x1/12cg6y756v1bg3krkyfd6whc0000gn/T/ipykernel_41327/1078614353.py:10: UserWarning: Geometry is in a geographic CRS. Results from 'distance' are likely incorrect. Use 'GeoSeries.to_crs()' to re-project geometries to a projected CRS before this operation.\n",
      "\n",
      "  complaint_data['distance_to_target'] = complaint_data['geometry'].distance(target_point)\n"
     ]
    }
   ],
   "source": [
    "### test:\n",
    "\n",
    "# Create a Point geometry\n",
    "target_latitude = 40.80737875669467\n",
    "target_longitude = -73.96253174434912\n",
    "\n",
    "target_point = Point(target_longitude, target_latitude)\n",
    "\n",
    "# Calculate distance between incidents and the target location\n",
    "complaint_data['distance_to_target'] = complaint_data['geometry'].distance(target_point)\n",
    "\n",
    "# Filter incidents within a 1-kilometer radius of the target location\n",
    "df_incidents_within_radius = complaint_data[complaint_data['distance_to_target'] <= 10000]  # Distance in meters (1 kilometer = 1000 meters)"
   ]
  },
  {
   "cell_type": "code",
   "execution_count": 236,
   "id": "7cceefef",
   "metadata": {},
   "outputs": [],
   "source": [
    "# visualization\n",
    "def incidents_within_radius(df_incidents_within_radius: gpd.GeoDataFrame):\n",
    "    \"\"\"Greate the plot '311 Incidents within 1km Radius'.\"\"\"\n",
    "    \n",
    "    fig, ax = plt.subplots(figsize=(8, 8))\n",
    "    \n",
    "    world = gpd.read_file(gpd.datasets.get_path('naturalearth_lowres'))\n",
    "    \n",
    "    world.plot(ax=ax, color='lightgrey')\n",
    "    df_incidents_within_radius.plot(ax=ax, markersize=10, color='red', marker='o', label='Incidents within 1km radius')\n",
    "    \n",
    "    ax.legend()\n",
    "    plt.title('311 Incidents within 1km Radius')\n",
    "    plt.xlabel('Longitude')\n",
    "    plt.ylabel('Latitude')"
   ]
  },
  {
   "cell_type": "code",
   "execution_count": 237,
   "id": "a2afb98f",
   "metadata": {},
   "outputs": [
    {
     "name": "stderr",
     "output_type": "stream",
     "text": [
      "/var/folders/x1/12cg6y756v1bg3krkyfd6whc0000gn/T/ipykernel_41327/2526564583.py:7: FutureWarning: The geopandas.dataset module is deprecated and will be removed in GeoPandas 1.0. You can get the original 'naturalearth_lowres' data from https://www.naturalearthdata.com/downloads/110m-cultural-vectors/.\n",
      "  world = gpd.read_file(gpd.datasets.get_path('naturalearth_lowres'))\n"
     ]
    },
    {
     "data": {
      "image/png": "[encoded data removed]",
      "text/plain": [
       "<Figure size 800x800 with 1 Axes>"
      ]
     },
     "metadata": {},
     "output_type": "display_data"
    }
   ],
   "source": [
    "incidents_within_radius(df_incidents_within_radius)"
   ]
  },
  {
   "cell_type": "markdown",
   "id": "f4a11e0c",
   "metadata": {},
   "source": [
    "## Visualization 6: Are areas trying to improve the amount of trees in the neighborhood?\n",
    "Create a geospatial plot of two sets of data: the coordinates of trees in NYC, and the coordinates of \"New Tree Request\" 311 complaint types that were made from October 1st, 2018 to September 30th, 2023 (inclusive). "
   ]
  },
  {
   "cell_type": "code",
   "execution_count": 238,
   "id": "4cb08e0e",
   "metadata": {},
   "outputs": [],
   "source": [
    "# final data selection - skipped for now\n",
    "def get_data_for_visual_6() -> gpd.GeoDataFrame:\n",
    "    \"\"\"Get the dataframe needed for visualization 6.\"\"\"\n",
    "    \n",
    "    # Select \"New Tree Request\" complaints within the time range\n",
    "    new_tree_requests = complaint_data[\n",
    "        (complaint_data['complaint_type'] == 'New Tree Request') \n",
    "        & (complaint_data['created_date'] >= '2018-10-01') \n",
    "        & (complaint_data['created_date'] <= '2023-09-30')\n",
    "]\n",
    "    return new_tree_requests"
   ]
  },
  {
   "cell_type": "code",
   "execution_count": 239,
   "id": "c52998bd",
   "metadata": {},
   "outputs": [],
   "source": [
    "def trees_and_new_trees_request(tree_data: gpd.GeoDataFrame, new_tree_requests: gpd.GeoDataFrame):\n",
    "    \"\"\"Create the plot 'Trees and New Tree Requests'.\"\"\"\n",
    "    \n",
    "    fig, ax = plt.subplots(figsize=(10, 8))\n",
    "    \n",
    "    tree_data.plot(ax=ax, color='green', alpha=0.5, label='Trees')\n",
    "    new_tree_requests.plot(ax=ax, color='blue', alpha=0.5, label='New Tree Requests')\n",
    "    \n",
    "    plt.title('Trees and New Tree Requests')\n",
    "    plt.legend()"
   ]
  },
  {
   "cell_type": "code",
   "execution_count": 240,
   "id": "9ac1d3b8",
   "metadata": {},
   "outputs": [
    {
     "data": {
      "image/png": "[encoded data removed]",
      "text/plain": [
       "<Figure size 1000x800 with 1 Axes>"
      ]
     },
     "metadata": {},
     "output_type": "display_data"
    }
   ],
   "source": [
    "# test:\n",
    "new_tree_requests = complaint_data[complaint_data['complaint_type'] == 'New Tree Request']\n",
    "trees_and_new_trees_request(tree_data, new_tree_requests)"
   ]
  },
  {
   "cell_type": "code",
   "execution_count": 241,
   "id": "6dceee02",
   "metadata": {},
   "outputs": [
    {
     "data": {
      "image/png": "[encoded data removed]",
      "text/plain": [
       "<Figure size 1000x800 with 1 Axes>"
      ]
     },
     "metadata": {},
     "output_type": "display_data"
    }
   ],
   "source": [
    "# test:\n",
    "trees_and_new_trees_request(tree_data, complaint_data)"
   ]
  },
  {
   "cell_type": "markdown",
   "id": "6dd3525f",
   "metadata": {},
   "source": [
    "## Extra Credit-2 UnitTests\n",
    "\n",
    "Define at least one unit test for every function and class method you’ve defined."
   ]
  },
  {
   "cell_type": "code",
   "execution_count": null,
   "id": "cbd8b859",
   "metadata": {},
   "outputs": [],
   "source": [
    "class TestPartOne(unittest.TestCase):  \n",
    "    \n",
    "    def test_download_nyc_geojson_data(self) -> None:  \n",
    "        url = \"https://data.cityofnewyork.us/resource/erm2-nwe9.geojson?$$app_token=RbFfvU4T8a7C7rDHaA9eqAkvZ&$limit=1000\"\n",
    "        file_name = 'complaints_(1000)'\n",
    "        download_nyc_geojson_data(url, file_name, force)\n",
    "        expected_file = 'complaints.geojson'\n",
    "        file_exists = os.path.isfile(expected_file)\n",
    "        self.assertTrue(file_exists, f\"Didn't successfully download '{expected_file}'.\")       \n",
    "\n",
    "    def test_download_and_clean_311_data(self) -> None:\n",
    "        result = download_and_clean_311_data()\n",
    "        self.assertTrue(isinstance(result, gpd.GeoDataFrame))\n",
    "        \n",
    "    def test_download_and_clean_tree_data(self) -> None:\n",
    "        result = download_and_clean_tree_data()\n",
    "        expected_columns = ['tree_id', 'zipcode', 'spc_common', 'health', 'status','geometry']]\n",
    "        for column in expected_columns:\n",
    "            self.assertIn(column, result.columns)\n",
    "            \n",
    "    def test_load_and_clean_zipcodes(self) -> None:\n",
    "        result = load_and_clean_zipcodes('data/zipcodes/nyc_zipcodes.shp')\n",
    "        self.assertTrue(isinstance(result, gpd.GeoDataFrame))\n",
    "        \n",
    "    def test_load_and_clean_zillow_data(self) -> None:\n",
    "        result = load_and_clean_zillow_data('data/zillow_rent_data.csv')\n",
    "        self.assertTrue(isinstance(result, pd.DataFrame))\n",
    "        \n",
    "    def test_load_all_data(self) -> None:\n",
    "        a, b, c, d = load_all_data()\n",
    "        self.assertTrue(isinstance(a, gpd.GeoDataFrame))\n",
    "        self.assertTrue(isinstance(b, gpd.GeoDataFrame))\n",
    "        self.assertTrue(isinstance(c, gpd.GeoDataFrame))\n",
    "        self.assertTrue(isinstance(d, pd.DataFrame))"
   ]
  },
  {
   "cell_type": "code",
   "execution_count": null,
   "id": "f4d0ca32",
   "metadata": {},
   "outputs": [],
   "source": [
    "class TestPartThree(unittest.TestCase):  \n",
    "    def test_write_query_to_file(self) -> None:\n",
    "        \n",
    "        test_file = 'try.sql'\n",
    "        write_query_to_file(\n",
    "            \"CREATE TABLE test_table (id INT, column_one VARCHAR(255))\",\n",
    "            test_file)\n",
    "        \n",
    "        self.assertTrue(os.path.isfile(test_file), f\"Did not create file '{test_file}'"
   ]
  },
  {
   "cell_type": "code",
   "execution_count": null,
   "id": "d9ba2998",
   "metadata": {},
   "outputs": [],
   "source": [
    "class TestPartFour(unittest.TestCase):\n",
    "    def test (self) -> None:\n",
    "        "
   ]
  },
  {
   "cell_type": "code",
   "execution_count": null,
   "id": "da4c1a82",
   "metadata": {},
   "outputs": [],
   "source": [
    "# get thorough examination and detailed debugging during test execution\n",
    "if __name__ == '__main__':\n",
    "    unittest.main(argv=['first-arg-is-ignored'], verbosity=3, exit = False)"
   ]
  }
 ],
 "metadata": {
  "kernelspec": {
   "display_name": "Python 3 (ipykernel)",
   "language": "python",
   "name": "python3"
  },
  "language_info": {
   "codemirror_mode": {
    "name": "ipython",
    "version": 3
   },
   "file_extension": ".py",
   "mimetype": "text/x-python",
   "name": "python",
   "nbconvert_exporter": "python",
   "pygments_lexer": "ipython3",
   "version": "3.11.0"
  }
 },
 "nbformat": 4,
 "nbformat_minor": 5
}
